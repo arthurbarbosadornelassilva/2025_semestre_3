{
 "cells": [
  {
   "cell_type": "markdown",
   "id": "a0f9fc65",
   "metadata": {},
   "source": [
    "<img src= \"https://maua.br/images/logo-IMT.png\" width=250>"
   ]
  },
  {
   "cell_type": "markdown",
   "id": "cf4b175c",
   "metadata": {},
   "source": [
    "#  <center> <font color=#023e8a>  **CIC202: Física e Modelagem Computacional**  <center>\n",
    " <center> Prof. Sandro Martini <center>"
   ]
  },
  {
   "cell_type": "markdown",
   "id": "89f58705",
   "metadata": {},
   "source": [
    "## <center>  **Semana 08: Movimento em Queda Livre**"
   ]
  },
  {
   "cell_type": "markdown",
   "id": "401c1d27",
   "metadata": {},
   "source": [
    "### Nome: Arthur Barbosa Dornelas Silva"
   ]
  },
  {
   "cell_type": "markdown",
   "id": "02fd0026",
   "metadata": {},
   "source": [
    "### Instruções iniciais:\n",
    "\n",
    "1. Coloque todos os arquivos que você baixou num mesmo diretório;\n",
    "3. Leia o notebook e realize as tarefas indicadas;\n",
    "4. Quando tiver terminado, envie esse próprio arquivo com as atividades realizadas.\n",
    "5. Cada aluno deve enviar a sua atividade;\n",
    "6. O laboratório é um momento de independência para que você possa aprender de forma autônoma. Por isso leia atentamente as instruções, discuta com os colegas os exercícios, os códigos e as soluções. \n",
    "   \n",
    "\n"
   ]
  },
  {
   "cell_type": "markdown",
   "id": "3d41bd72",
   "metadata": {},
   "source": [
    "### Objetivos:"
   ]
  },
  {
   "cell_type": "markdown",
   "id": "260af190",
   "metadata": {},
   "source": [
    "-  Analisar o movimento de queda livre a partir do diagrama de movimento.\n",
    "-  Aplicar um modelo matemático e comparar com o diagrama de movimento.\n",
    "-  Analisar o movimento a partir de um conjunto de dados com alta resolução temporal."
   ]
  },
  {
   "cell_type": "markdown",
   "id": "96c45d41",
   "metadata": {},
   "source": [
    "### Movimento de uma bola de tênis em queda livre"
   ]
  },
  {
   "cell_type": "markdown",
   "id": "76d576f3",
   "metadata": {},
   "source": [
    "Estes exercícios demonstram como é possível analisar o comportamento da velocidade e a aceleração de uma bola de tênis em queda livre, utilizando diferentes métodos. Você analisará o movimento por um diagrama do movimento, por um modelo matemático e por um conjunto de dados de alta resolução temporal."
   ]
  },
  {
   "cell_type": "markdown",
   "id": "2f3fbd59",
   "metadata": {},
   "source": [
    "**Diagrama de movimento**: o registro do movimento de uma bola de tênis em queda livre foi feito utilizando uma câmera digital. As primeiras imagens obtidas foram combinadas para criar uma imagem que ilustra o movimento da bola. A partir da sequência de imagens, mede-se a posição vertical da bola comparando a altura do centro da bola com a régua vista nas imagens. Desenha-se o diagrama de movimento marcando as posições $y_i$ com pontos ao longo do eixo $y$ orientado verticalmente, conforme ilustrado na figura. As velocidades são representadas com setas. As posições registradas estão apresentadas na tabela abaixo. "
   ]
  },
  {
   "cell_type": "markdown",
   "id": "629545ff",
   "metadata": {},
   "source": [
    "| *i* |$t_i$ (s)|$y_i$ (m)|\n",
    "|:---:|:---:|:---:|\n",
    "| 0 | 0.0 | 1.60 |\n",
    "| 1 | 0.1 | 1.55 |\n",
    "| 2 | 0.2 | 1.40 |\n",
    "| 3 | 0.3 | 1.16 |\n",
    "| 4 | 0.4 | 0.82 |\n",
    "| 5 | 0.5 | 0.39 |"
   ]
  },
  {
   "cell_type": "markdown",
   "id": "9cdeb5e0",
   "metadata": {},
   "source": [
    "<div class=\"alert alert-danger\"> <strong> &#x1F4DD; Atividade 1:</strong>  \n",
    "\n",
    "A partir dos dados da tabela acima, desenvolva um código para plotar a posição da bola em função do tempo ($y(t)$). O gráfico deve conter título e os labels dos eixos $x$ e $y$.</div>"
   ]
  },
  {
   "cell_type": "code",
   "execution_count": null,
   "id": "1a553693",
   "metadata": {},
   "outputs": [],
   "source": [
    "#Coloque aqui seu código\n",
    "import matplotlib.pyplot as plt\n",
    "\n",
    "y_posicao = [1.60, 1.55, 1.40, 1.16, 0.82, 0.39]\n",
    "x_tempo = [0.0, 0.1, 0.2, 0.3, 0.4, 0.5]\n",
    "\n",
    "plt.plot(x_tempo, y_posicao, marker='o', linestyle='-')\n",
    "plt.xlabel(\"ti [s] \")  \n",
    "plt.ylabel(\"yi [m]\")  \n",
    "plt.title(\"Movimento de uma Bola de Tênis em Queda Livre\")\n",
    "plt.show()"
   ]
  },
  {
   "cell_type": "markdown",
   "id": "6ef204fa",
   "metadata": {},
   "source": [
    "<div class=\"alert alert-warning\"><strong>Questão:</strong> O comportamento de $y(t)$ pode ser descrito por qual função matemática? </div>"
   ]
  },
  {
   "cell_type": "markdown",
   "id": "1988ee90",
   "metadata": {},
   "source": [
    "**Resposta:** O comportamento pode ser descrito através de uma função de 2° grau"
   ]
  },
  {
   "cell_type": "markdown",
   "id": "980f051e",
   "metadata": {},
   "source": [
    "As velocidades médias podem ser calculadas a partir dos dados. Para cada $i$ na tabela, calculamos a velocidade média de $t_i$ a $t_{i+1}$ usando:"
   ]
  },
  {
   "cell_type": "markdown",
   "id": "6cc85d4a",
   "metadata": {},
   "source": [
    "$$\\bar v_i =\\frac{y_{i+1} - y_i}{\\Delta t}$$"
   ]
  },
  {
   "cell_type": "markdown",
   "id": "1817ac55",
   "metadata": {},
   "source": [
    "<div class=\"alert alert-danger\"> <strong>&#x1F4DD; Atividade 2:</strong>\n",
    "\n",
    "Crie um código para calcular a velocidade média da bola para cada intervalo de tempo $\\Delta t$ = 0.1 s. Lembre-se de fornecer essas velocidades como uma saída para o usuário. Apresente os valores com uma casa decimal. </div>"
   ]
  },
  {
   "cell_type": "code",
   "execution_count": null,
   "id": "e02ac53c",
   "metadata": {},
   "outputs": [],
   "source": [
    "#Coloque aqui seu código\n",
    "y_posicao = [1.60, 1.55, 1.40, 1.16, 0.82, 0.39]\n",
    "velocidades_medias = []\n",
    "\n",
    "for i in range(1, len(y_posicao)):\n",
    "    delta_s = y_posicao[i] - y_posicao[i - 1]\n",
    "    delta_t = 0.1\n",
    "    vel_media = delta_s / delta_t\n",
    "    velocidades_medias.append(vel_media)\n",
    "    \n",
    "    print(f\"{vel_media:.2f} m/s\")"
   ]
  },
  {
   "cell_type": "markdown",
   "id": "edc47246",
   "metadata": {},
   "source": [
    "<div class=\"alert alert-warning\"><strong>Questão:</strong> Explique por que os valores são negativos?</div> "
   ]
  },
  {
   "cell_type": "markdown",
   "id": "861eec53",
   "metadata": {},
   "source": [
    "**Resposta:** Os valores são negativos porque a bola se move no sentido negativo do eixo 𝑦, ou seja, em direção ao solo"
   ]
  },
  {
   "cell_type": "markdown",
   "id": "bff10394",
   "metadata": {},
   "source": [
    "<div class=\"alert alert-warning\"><strong>Questão:</strong> A partir dos valores das velocidades pode-se concluir que a bola sofre aceleração ou não? Justifique a sua resposta.</div> "
   ]
  },
  {
   "cell_type": "markdown",
   "id": "4b798244",
   "metadata": {},
   "source": [
    "**Resposta:** Sim, sofre aceleração porque a velocidade aumenta em módulo devido à ação constante da gravidade."
   ]
  },
  {
   "cell_type": "markdown",
   "id": "571abf98",
   "metadata": {},
   "source": [
    "As acelerações médias podem ser calculadas a partir dos dados das velocidades. A aceleração média é dada por:"
   ]
  },
  {
   "cell_type": "markdown",
   "id": "132f7e31",
   "metadata": {},
   "source": [
    "$$\\bar a_i =\\frac{v_{i+1} - v_i}{\\Delta t}$$"
   ]
  },
  {
   "cell_type": "markdown",
   "id": "a94d5192",
   "metadata": {},
   "source": [
    "<div class=\"alert alert-danger\"> <strong>&#x1F4DD; Atividade 3:</strong>\n",
    "\n",
    "Crie um código para calcular a aceleração média da bola para cada intervalo de tempo $\\Delta t$ = 0.1 s. Lembre-se de fornecer essas acelerações como uma saída para o usuário. Apresente os valores com uma casa decimal. </div>"
   ]
  },
  {
   "cell_type": "code",
   "execution_count": null,
   "id": "8b018f5e",
   "metadata": {},
   "outputs": [],
   "source": [
    "#Coloque seu código aqui\n",
    "y_posicao = [1.60, 1.55, 1.40, 1.16, 0.82, 0.39]\n",
    "delta_t = 0.1  \n",
    "\n",
    "velocidades_medias = []\n",
    "aceleracoes_medias = []\n",
    "\n",
    "# Velocidade Média\n",
    "for i in range(1, len(y_posicao)):\n",
    "    delta_s = y_posicao[i] - y_posicao[i - 1]\n",
    "    delta_t = 0.1\n",
    "    vel_media = delta_s / delta_t\n",
    "    velocidades_medias.append(vel_media)\n",
    "\n",
    "# Aceleração\n",
    "for i in range(len(velocidades_medias) - 1):\n",
    "    a_media = (velocidades_medias[i+1] - velocidades_medias[i]) / delta_t\n",
    "    aceleracoes_medias.append(a_media)\n",
    "\n",
    "print(\"\\nAcelerações médias (m/s²):\")\n",
    "for i, a in enumerate(aceleracoes_medias):\n",
    "    print(f\"a[{i}] = {a:.1f} m/s²\")\n"
   ]
  },
  {
   "cell_type": "markdown",
   "id": "461fa625",
   "metadata": {},
   "source": [
    "<div class=\"alert alert-danger\"> <strong>&#x1F4DD; Atividade 4:</strong>\n",
    "\n",
    "Com os valores obtidos das acelerações, crie um código para calcular a média e o desvio padrão desses valores. Você pode usar as funções `mean()` e `stdev()` do módulo `statistics`.   Apresente os valores com uma casa decimal. Consulte [Funções estatísticas](https://docs.python.org/pt-br/3/library/statistics.html#module-statistics). </div>"
   ]
  },
  {
   "cell_type": "code",
   "execution_count": null,
   "id": "d8b454cf",
   "metadata": {},
   "outputs": [],
   "source": [
    "#Coloque seu código aqui\n",
    "import statistics\n",
    "\n",
    "media_aceleracao = statistics.mean(aceleracoes_medias)\n",
    "desvio_padrao_aceleracao = statistics.stdev(aceleracoes_medias)\n",
    "\n",
    "print(f\"Média da aceleração: {media_aceleracao:.1f} m/s²\")\n",
    "print(f\"Desvio padrão da aceleração: {desvio_padrao_aceleracao:.1f} m/s²\")"
   ]
  },
  {
   "cell_type": "markdown",
   "id": "104481a4",
   "metadata": {},
   "source": [
    "<div class=\"alert alert-warning\"><strong>Questão:</strong> A partir do diagrama de movimento podemos afirmar que a bola de tênis cai com uma aceleração constante? Você pode reconhecer qual aceleração é essa? Qual o tipo de movimento que apresenta essas características?</div> "
   ]
  },
  {
   "cell_type": "markdown",
   "id": "d5254103",
   "metadata": {},
   "source": [
    "**Resposta:** Sim, a bola cai com uma aceleração aproximadamente constante. Pois é possível notar a baixa variação entre os valores das acelerações médias calculadas. O tipo de movimento é o movimento uniformemente acelerado (MUA)."
   ]
  },
  {
   "cell_type": "markdown",
   "id": "60841eba",
   "metadata": {},
   "source": [
    "**Modelo matemático**: a Física, em especial a Cinemática, fornece uma expressão matemática para analisar o comportamento de objetos em queda livre. A expressão é determinada a partir da equação do movimento retilíneo uniformemente variado (MRUV):"
   ]
  },
  {
   "cell_type": "markdown",
   "id": "a798f391",
   "metadata": {},
   "source": [
    "$$x(t) = x_0 + v_{o}t + \\frac{1}{2}at{^2}$$"
   ]
  },
  {
   "cell_type": "markdown",
   "id": "e0fc765b",
   "metadata": {},
   "source": [
    "Como a bola está em queda livre (movimento vertical), podemos reescrever a equação acima como:\n"
   ]
  },
  {
   "cell_type": "markdown",
   "id": "46cd8834",
   "metadata": {},
   "source": [
    "$$y(t) = y_0 + v_{o}t - \\frac{1}{2}gt{^2}$$"
   ]
  },
  {
   "cell_type": "markdown",
   "id": "dcfffe4c",
   "metadata": {},
   "source": [
    "Sendo $g$ = 9.8 m/s$^2$, que é o valor da aceleração da gravidade. Note que no modelo matemático desprezamos os efeitos da resistência do ar e aceleração da bola é igual a aceleração da gravidade ($a$ = $g$). O sinal negativo indica que aceleração do corpo está no sentido contrário a orientação do eixo $y$. Aplicando o modelo matemático aos dados obtidos do diagrama de movimento temos que $y_{0} = 1.6$ e $v_{0} = 0 $,portanto:"
   ]
  },
  {
   "cell_type": "markdown",
   "id": "29c6aee8",
   "metadata": {},
   "source": [
    "$$y(t) = 1.6 - \\frac{1}{2}(9.8)t{^2}$$"
   ]
  },
  {
   "cell_type": "markdown",
   "id": "0581f964",
   "metadata": {},
   "source": [
    "<div class=\"alert alert-danger\"> <strong>&#x1F4DD; Atividade 5:</strong>\n",
    "\n",
    "Agora com base no modelo matemático acima, crie um código para calcular as posições $y(t)$ para cada instante de tempo da tabela anterior. Forneça as posições com três casas decimais. </div>"
   ]
  },
  {
   "cell_type": "code",
   "execution_count": null,
   "id": "69aa83a0",
   "metadata": {},
   "outputs": [],
   "source": [
    "#Coloque seu código aqui\n",
    "import numpy as np\n",
    "\n",
    "x_tempo = np.array([0.0, 0.1, 0.2, 0.3, 0.4, 0.5])\n",
    "\n",
    "def y(x_tempo):\n",
    "    y0 = 1.6 \n",
    "    g = 9.8\n",
    "    return y0 - (1/2) * g * x_tempo**2\n",
    "\n",
    "posicoes = y(x_tempo)\n",
    "\n",
    "for i, tempo in enumerate(x_tempo):\n",
    "    print(f\"t = {tempo:.1f} s, y(t) = {posicoes[i]:.3f} m\")"
   ]
  },
  {
   "cell_type": "markdown",
   "id": "c7a55cb1",
   "metadata": {},
   "source": [
    "<div class=\"alert alert-danger\"> <strong>&#x1F4DD; Atividade 6:</strong>\n",
    "\n",
    "As respostas para cada uma das posições calculadas estão aparecendo em uma única linha de sáida. Apresente os dados do tempo e da posição calculada de forma mais parecida com a tabela anterior. Para isso use o comando `transpose ()`. Consutle [Transpose](https://numpy.org/doc/stable/reference/generated/numpy.transpose.html) </div>"
   ]
  },
  {
   "cell_type": "code",
   "execution_count": null,
   "id": "cb7c1b25",
   "metadata": {},
   "outputs": [],
   "source": [
    "#Coloque seu código aqui\n",
    "\n",
    "#O CÓDIGO DO ITEM 5 RESPONDE TANTO AS QUESTÕES 5 QUANTO A 6, SEM A NECESSIDADE DO USO DE transpose()"
   ]
  },
  {
   "cell_type": "markdown",
   "id": "cd46e17e",
   "metadata": {},
   "source": [
    "<div class=\"alert alert-warning\"><strong>Questão:</strong> Os valores calculados para $y(t)$ a partir do modelo matemático são muito semelhantes aos dados experimentais. Entretanto, temos algumas diferenças entre os resultados. Por exemplo, no experimento a bola está em $y$ = 0,39 m em $t$ = 0,5 s, enquanto o modelo matemático prevê $y$ = 0,375 m. Por quê? </div> "
   ]
  },
  {
   "cell_type": "markdown",
   "id": "7619c849",
   "metadata": {},
   "source": [
    "**Resposta:** Essa diferença pode ser atribuída por certos fatores, como: Aproximações no modelo, erros nas medições experimentais e possíveis diferenças nas condições iniciais"
   ]
  },
  {
   "cell_type": "markdown",
   "id": "85613715",
   "metadata": {},
   "source": [
    "**Dados com alta resolução temporal**: para estudar o processo com mais detalhes, a discretização temporal deve ser maior, ou seja, necessitamos tornar $\\Delta t$ ainda menor. Para isso o movimento de queda livre da bola de tênis também foi registrado por um detector de movimento colocado diretamente acima da bola. O detector fornece a posição vertical $y$ da bola, mas com uma resolução temporal muito maior que as imagens. Os detectores medem $y$ em um intervalo de tempo de $\\Delta t$ = 0.001 s. Os dados estão armazenados no arquivo `quedalivrebolatenis.d` As primeiras linhas do arquivo se parecem com:"
   ]
  },
  {
   "cell_type": "markdown",
   "id": "58602936",
   "metadata": {},
   "source": [
    "`0.0000000000000000e+00   1.6000000000000001e+00`  \n",
    "`1.0000000000000020e-03   1.5999950510001959e+00`  \n",
    "`2.0000000000000044e-03   1.5999803020031378e+00`"
   ]
  },
  {
   "cell_type": "markdown",
   "id": "65c11900",
   "metadata": {},
   "source": [
    "onde cada linha contém o tempo $t_i$ em segundos e a posição $y_i$ em metros (dados em notação científica, mas sem unidade). Podemos ler esse o conjunto de dados do arquivo, usando `loadtxt`:  "
   ]
  },
  {
   "cell_type": "code",
   "execution_count": null,
   "id": "3b058d23",
   "metadata": {},
   "outputs": [],
   "source": [
    "#Execute esta célula apenas se você estiver usando o Google Colab\n",
    "#from google.colab import files\n",
    "#files.upload()"
   ]
  },
  {
   "cell_type": "code",
   "execution_count": 1,
   "id": "e5ed1861",
   "metadata": {},
   "outputs": [],
   "source": [
    "import numpy as np\n",
    "t, y = np.loadtxt('quedalivrebolatenis.dat', usecols=[0,1], unpack=True)"
   ]
  },
  {
   "cell_type": "markdown",
   "id": "aa73c8a8",
   "metadata": {},
   "source": [
    "**Obs:** Para saber mais sobre `loadtxt`, viste o site [loadtxt](https://numpy.org/doc/stable/reference/generated/numpy.loadtxt.html).   "
   ]
  },
  {
   "cell_type": "markdown",
   "id": "d60e0fb7",
   "metadata": {},
   "source": [
    "<div class=\"alert alert-danger\"> <strong>&#x1F4DD; Atividade 7:</strong>\n",
    "\n",
    "Vejamos os dados armazenados nesse arquivo. Crie um código para plotar a posição $y$ em função do tempo. Não esqueça das nomenclaturas dos respectivos eixos. </div>"
   ]
  },
  {
   "cell_type": "code",
   "execution_count": null,
   "id": "9075b1e4",
   "metadata": {},
   "outputs": [],
   "source": [
    "#Coloque seu código aqui\n",
    "\n",
    "plt.plot(t, y, marker='o', linestyle='-')\n",
    "plt.xlabel(\"ti [s] \")  \n",
    "plt.ylabel(\"yi [m]\")  \n",
    "plt.title(\"Movimento de uma Bola de Tênis em Queda Livre - Dados com Alta Resolução Temporal\")\n",
    "plt.show()"
   ]
  },
  {
   "cell_type": "markdown",
   "id": "fc3b632c",
   "metadata": {},
   "source": [
    "<div class=\"alert alert-warning\"><strong>Questão:</strong> Com base no comportamento do gráfico, exlique o que está acontencendo. </div> "
   ]
  },
  {
   "cell_type": "markdown",
   "id": "733e47b8",
   "metadata": {},
   "source": [
    "**Resposta**: No gráfico é possível observar uma bola de tênis em queda livre, com sua velocidade diminuindo ao longo do tempo, devido a aceleração constante da gravidade."
   ]
  }
 ],
 "metadata": {
  "kernelspec": {
   "display_name": "Python 3",
   "language": "python",
   "name": "python3"
  },
  "language_info": {
   "codemirror_mode": {
    "name": "ipython",
    "version": 3
   },
   "file_extension": ".py",
   "mimetype": "text/x-python",
   "name": "python",
   "nbconvert_exporter": "python",
   "pygments_lexer": "ipython3",
   "version": "3.13.0"
  }
 },
 "nbformat": 4,
 "nbformat_minor": 5
}
