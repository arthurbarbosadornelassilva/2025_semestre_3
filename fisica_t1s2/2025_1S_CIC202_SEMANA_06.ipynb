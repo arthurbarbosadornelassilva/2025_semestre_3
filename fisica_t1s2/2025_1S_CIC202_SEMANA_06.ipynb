{
 "cells": [
  {
   "cell_type": "markdown",
   "id": "8341a0c9",
   "metadata": {},
   "source": [
    "<img src= \"https://maua.br/images/logo-IMT.png\" width=250>"
   ]
  },
  {
   "cell_type": "markdown",
   "id": "7b8e3e41-a9ec-4622-8ca7-f1ff628077cb",
   "metadata": {},
   "source": [
    "# <center> <font color=#023e8a>  **CIC202: Física e Modelagem Computacional**  <center>\n",
    " <center> Prof. Dr. Sandro Martini <center>"
   ]
  },
  {
   "cell_type": "markdown",
   "id": "89f58705",
   "metadata": {},
   "source": [
    "## <center> **Semana 06: Revisão Prática - NumPy e Matplotlib** <center> "
   ]
  },
  {
   "cell_type": "markdown",
   "id": "a116e8f7",
   "metadata": {
    "jp-MarkdownHeadingCollapsed": true
   },
   "source": [
    "### Nome: <span style=\"color:red\"> Arthur Silva </span>"
   ]
  },
  {
   "cell_type": "markdown",
   "id": "9f0b9891",
   "metadata": {
    "jp-MarkdownHeadingCollapsed": true
   },
   "source": [
    "### **Instruções iniciais**\n",
    "\n",
    "1. Coloque todos os arquivos que você baixou num mesmo diretório;\n",
    "2. <span style=\"color:red\">**LEIA TODO o NOTEBOOK passo a passo, execute as células de código e realize as tarefas indicadas ao longo do notebook**</span>;\n",
    "3. Quando tiver terminado, envie esse próprio arquivo salvo com as atividades realizadas."
   ]
  },
  {
   "cell_type": "markdown",
   "id": "3d41bd72",
   "metadata": {},
   "source": [
    "### **Objetivos**"
   ]
  },
  {
   "cell_type": "markdown",
   "id": "260af190",
   "metadata": {},
   "source": [
    "1. Compreender a importância do NumPy na computação científica e sua vantagem sobre listas convencionais do Python.\n",
    "2. Criar e manipular arrays NumPy, explorando operações matemáticas e funções integradas.\n",
    "3. Aplicar indexação e fatiamento em arrays para extrair subconjuntos de dados.\n",
    "4. Gerar dados numericamente usando funções como linspace e arange.\n",
    "5. Entender a estrutura e funcionamento do Matplotlib, diferenciando seus principais métodos de visualização.\n",
    "6. Construir e personalizar gráficos, adicionando rótulos, legendas, cores e estilos."
   ]
  },
  {
   "cell_type": "markdown",
   "id": "a2550cc2-80a5-4c89-85c9-db68af2014f6",
   "metadata": {},
   "source": [
    "### **1. O que é o Numpy?**"
   ]
  },
  {
   "cell_type": "markdown",
   "id": "b18cba2a-bf0e-474d-bab2-b9a3c4cd9273",
   "metadata": {},
   "source": [
    " * Biblioteca fundamental para computação numérica em Python.\n",
    " * Trabalha com arrays de maneira eficiente.\n",
    " * Possui funções matemáticas otimizadas para operações em vetores e matrizes."
   ]
  },
  {
   "cell_type": "markdown",
   "id": "ee84f65d-1c67-4920-b528-1c7613a91e1b",
   "metadata": {},
   "source": [
    "#### **1.1 Criando um Array NumPy**"
   ]
  },
  {
   "cell_type": "code",
   "execution_count": null,
   "id": "d8929bf5-6ec0-41ec-b04c-ea1d72019319",
   "metadata": {
    "jp-MarkdownHeadingCollapsed": true
   },
   "outputs": [],
   "source": [
    "import numpy as np  # Importa o módulo NumPy\n",
    "\n",
    "# Criando um array NumPy com números de 1 a 6\n",
    "arr = np.array([1, 2, 3, 4, 5, 6])\n",
    "\n",
    "# Exibindo o array\n",
    "print(arr)"
   ]
  },
  {
   "cell_type": "markdown",
   "id": "9185a3e3-8c9a-4a9d-a74a-e9aeefcab852",
   "metadata": {},
   "source": [
    "**Observação:** Diferente de uma lista Python (`[1, 2, 3, 4, 5, 6]`), **um array NumPy não exibe as vírgulas**, o que reflete sua estrutura mais compacta e eficiente."
   ]
  },
  {
   "cell_type": "markdown",
   "id": "177163d1-bef9-41a5-8f60-c620976d54ef",
   "metadata": {},
   "source": [
    "#### **1.2 Indexação: Acessando Elementos de um Array**"
   ]
  },
  {
   "cell_type": "code",
   "execution_count": null,
   "id": "8042e3d7-d6ee-45f5-976e-c818e1c0d95e",
   "metadata": {},
   "outputs": [],
   "source": [
    "print(\"Primeiro elemento:\", arr[0])   # Índice 0 → Primeiro elemento\n",
    "print(\"Quinto elemento:\", arr[4])    # Índice 4 → Quinto elemento\n",
    "print(\"Último elemento:\", arr[-1])   # Índice -1 → Último elemento"
   ]
  },
  {
   "cell_type": "markdown",
   "id": "f460683b-6c03-4fbd-a267-6b88f1771800",
   "metadata": {},
   "source": [
    "#### **1.3 Fatiamento (Slicing): Pegando Partes do Array**\n",
    "\n",
    "Podemos pegar subconjuntos do array sem precisar de laços `for`, utilizando a notação de slicing:\n",
    "`array[início:fim:passo]`\n",
    "\n",
    "* início → Índice onde começa o fatiamento.\n",
    "* fim → Índice onde termina (não incluído no resultado).\n",
    "* passo → De quantos em quantos elementos avançar (opcional)."
   ]
  },
  {
   "cell_type": "code",
   "execution_count": null,
   "id": "011d09d5-5f3a-4cf8-96e8-4c9577cf77c2",
   "metadata": {},
   "outputs": [],
   "source": [
    "print(\"Elementos do índice 2 ao 5:\", arr[2:6])  # Pega do índice 2 até 5\n",
    "print(\"Elementos do início até o índice 4:\", arr[:5])  # Do início até 4\n",
    "print(\"Últimos 3 elementos:\", arr[-3:])  # Pegando os últimos 3 números\n",
    "print(\"Elementos de 2 em 2:\", arr[::2])  # Pegando de dois em dois"
   ]
  },
  {
   "cell_type": "markdown",
   "id": "10a58c45-da78-410d-a5b6-bc87d20184ab",
   "metadata": {},
   "source": [
    "#### **1.4 Invertendo um Array**"
   ]
  },
  {
   "cell_type": "code",
   "execution_count": null,
   "id": "27bb3882-489d-4ee8-8954-0b3ddfbb0f79",
   "metadata": {},
   "outputs": [],
   "source": [
    "arr_invertido = arr[::-1]\n",
    "print(\"Array invertido:\", arr_invertido)\n"
   ]
  },
  {
   "cell_type": "markdown",
   "id": "534b447f-513c-424d-84ed-2998539fe29f",
   "metadata": {},
   "source": [
    "#### **1.5 Modificando Valores de um Array**"
   ]
  },
  {
   "cell_type": "code",
   "execution_count": null,
   "id": "aa67697e-d05a-4c46-8fb3-b53ffa3d5d9f",
   "metadata": {},
   "outputs": [],
   "source": [
    "arr[0] = 99  # Alterando o primeiro elemento\n",
    "arr[3:6] = [50, 60, 70]  # Alterando um intervalo\n",
    "\n",
    "print(\"Array modificado:\", arr)\n"
   ]
  },
  {
   "cell_type": "markdown",
   "id": "3559be79",
   "metadata": {},
   "source": [
    "<div class=\"alert alert-danger\"> <strong> &#x1F4DD; Atividade 1</strong>  \n",
    "\n",
    "1. Criando um Array\n",
    "* Crie um array NumPy contendo os números inteiros de 10 a 20 (inclusive).\n",
    "* Exiba o array na tela.\n",
    "2. Indexação\n",
    "* Imprima o primeiro elemento do array.\n",
    "* Imprima o quinto elemento do array.\n",
    "* Imprima o último elemento do array.\n",
    "3. Fatiamento (Slicing)\n",
    "* Extraia os números do índice 2 ao 6 e exiba o resultado.\n",
    "* Pegue os últimos 4 elementos do array e exiba-os.\n",
    "* Pegue apenas os números ímpares do array.\n",
    "4. Modificando Valores\n",
    "* Altere o primeiro valor do array para 100.\n",
    "* Modifique os três últimos números do array para [200, 300, 400].\n",
    "* Exiba o array atualizado.\n",
    "5. Inversão do Array\n",
    "* Crie um novo array que seja o inverso do array original (ordem invertida).\n",
    "* Exiba esse array invertido."
   ]
  },
  {
   "cell_type": "code",
   "execution_count": null,
   "id": "c1dc90c3-6810-4176-8ac6-5aee82e656ce",
   "metadata": {},
   "outputs": [],
   "source": [
    "# Coloque o seu código. Se achar necessário pode incluir cada bloco em células diferentes #\n",
    "import numpy as np\n",
    "\n",
    "array_1  = np.array([10, 11, 12, 13, 14, 15, 16, 17, 18, 19, 20])\n",
    "print(array_1)\n",
    "\n",
    "print(f\"Primeiro elemento: {array_1[0]}, quinto elemento: {array_1[4]}, último elemento: {array_1[-1]}\")\n",
    "\n",
    "extr = array_1[2:6]\n",
    "print(f\"Últimos 4 elementos: {extr[-4:]}\")\n",
    "\n",
    "array_1[0] = 100\n",
    "array_1[7:10] = [200, 300, 400]\n",
    "print(array_1)\n",
    "\n",
    "array_inverso = array_1[::-1]\n",
    "print(array_inverso)"
   ]
  },
  {
   "cell_type": "markdown",
   "id": "34251fee-298c-4894-8a46-140c5e4ebc33",
   "metadata": {},
   "source": [
    "#### **1.6 Operações Aritméticas Básicas**\n",
    "\n",
    "Podemos aplicar operações matemáticas diretamente sobre arrays."
   ]
  },
  {
   "cell_type": "code",
   "execution_count": null,
   "id": "d32b9e49-70d3-41d4-b6fd-e603bf0c484b",
   "metadata": {},
   "outputs": [],
   "source": [
    "import numpy as np\n",
    "\n",
    "# Criando dois arrays\n",
    "a = np.array([1, 2, 3, 4, 5])\n",
    "b = np.array([10, 20, 30, 40, 50])\n",
    "\n",
    "# Operações matemáticas vetorizadas\n",
    "soma = a + b       # Soma elemento a elemento\n",
    "subtracao = a - b  # Subtração elemento a elemento\n",
    "multiplicacao = a * b  # Multiplicação elemento a elemento\n",
    "divisao = a / b    # Divisão elemento a elemento\n",
    "\n",
    "print(\"Soma:\", soma)\n",
    "print(\"Subtração:\", subtracao)\n",
    "print(\"Multiplicação:\", multiplicacao)\n",
    "print(\"Divisão:\", divisao)\n"
   ]
  },
  {
   "cell_type": "markdown",
   "id": "45d23350-0349-41ed-90cb-9137d946fe3b",
   "metadata": {},
   "source": [
    "* O NumPy aplica as operações em todos os elementos do array ao mesmo tempo.\n",
    "* Não há necessidade de laços for, o que torna o código mais rápido e limpo."
   ]
  },
  {
   "cell_type": "markdown",
   "id": "de907c4b-8291-4917-a0d9-3f8cf29df1c7",
   "metadata": {},
   "source": [
    "#### **1.7 Operações com um Único Número (Escalares)**\n",
    "\n",
    "Também podemos aplicar operações com números únicos (escalares) diretamente nos arrays."
   ]
  },
  {
   "cell_type": "code",
   "execution_count": null,
   "id": "cbe9d244-bb34-4eb6-b704-8852432a5246",
   "metadata": {},
   "outputs": [],
   "source": [
    "x = np.array([1, 2, 3, 4, 5])\n",
    "\n",
    "print(\"Array original:\", x)\n",
    "print(\"Array multiplicado por 2:\", x * 2)\n",
    "print(\"Array somado com 10:\", x + 10)\n",
    "print(\"Array ao quadrado:\", x ** 2)\n",
    "print(\"Array dividido por 2:\", x / 2)\n"
   ]
  },
  {
   "cell_type": "markdown",
   "id": "c1995cb9-db2a-47e5-8931-3fccd39f16a2",
   "metadata": {},
   "source": [
    "* Cada elemento do array é multiplicado, somado, elevado ao quadrado ou dividido pelo número escalar."
   ]
  },
  {
   "cell_type": "markdown",
   "id": "5f0f4256-989a-4e9f-9d34-97263f8467bd",
   "metadata": {},
   "source": [
    "#### **1.8 Funções Matemáticas do NumPy**\n",
    "\n",
    "O NumPy possui várias funções matemáticas otimizadas que podem ser aplicadas diretamente sobre arrays."
   ]
  },
  {
   "cell_type": "code",
   "execution_count": null,
   "id": "e863647c-8e97-460f-9dfc-5071093566d1",
   "metadata": {},
   "outputs": [],
   "source": [
    "y = np.array([1, 4, 9, 16, 25])\n",
    "\n",
    "print(\"Raiz quadrada:\", np.sqrt(y))   # Raiz quadrada\n",
    "print(\"Logaritmo natural:\", np.log(y))  # Logaritmo natural\n",
    "print(\"Exponencial:\", np.exp(y))  # Exponencial\n",
    "print(\"Seno:\", np.sin(y))  # Seno\n",
    "print(\"Cosseno:\", np.cos(y))  # Cosseno\n"
   ]
  },
  {
   "cell_type": "markdown",
   "id": "47054d99-d783-46fe-badf-b6a9dcbf3f75",
   "metadata": {},
   "source": [
    "* `np.sqrt(y)` → Calcula a raiz quadrada de cada elemento.\n",
    "* `np.log(y)` → Calcula o logaritmo natural (base e).\n",
    "* `np.exp(y)` → Calcula o exponencial e^y.\n",
    "* `np.sin(y)` e `np.cos(y)` → Calculam seno e cosseno para cada elemento."
   ]
  },
  {
   "cell_type": "markdown",
   "id": "0530715e-eaaf-4c76-9f54-b713ca78f457",
   "metadata": {},
   "source": [
    "#### **1.9 Estatísticas Rápidas com NumPy**\n",
    "\n",
    "Podemos calcular rapidamente **média**, **soma**, **valores máximos** e **mínimos de um array**."
   ]
  },
  {
   "cell_type": "code",
   "execution_count": null,
   "id": "ccfe84d2-b401-4e64-944c-e09bb5cc3174",
   "metadata": {},
   "outputs": [],
   "source": [
    "dados = np.array([5, 10, 15, 20, 25, 30])\n",
    "\n",
    "print(\"Média:\", np.mean(dados))   # Média dos valores\n",
    "print(\"Soma total:\", np.sum(dados))  # Soma total do array\n",
    "print(\"Mínimo:\", np.min(dados))   # Menor valor\n",
    "print(\"Máximo:\", np.max(dados))   # Maior valor\n",
    "print(\"Desvio padrão:\", np.std(dados))  # Desvio padrão\n"
   ]
  },
  {
   "cell_type": "markdown",
   "id": "cf4b2513-8d04-424e-8d84-dd25cf0704e6",
   "metadata": {},
   "source": [
    "* `np.mean(dados)` → Calcula a média dos elementos.\n",
    "* `np.sum(dados)` → Soma todos os valores do array.\n",
    "* `np.min(dados)` e `np.max(dados)` → Encontra o menor e o maior valor.\n",
    "* `np.std(dados)` → Calcula o desvio padrão, útil para análise estatística."
   ]
  },
  {
   "cell_type": "markdown",
   "id": "2e624f55-d47e-40c2-b076-a94faff14119",
   "metadata": {},
   "source": [
    "<div class=\"alert alert-danger\"> <strong> &#x1F4DD; Atividade 2</strong>  \n",
    "\n",
    "1. Criando e Manipulando Arrays\n",
    "* Crie um array NumPy contendo os números inteiros de 1 a 10.\n",
    "* Crie um segundo array, que seja o dobro do primeiro (multiplicação por 2).\n",
    "* Crie um terceiro array, que seja o quadrado do primeiro array.\n",
    "\n",
    "2. Aplicando Funções Matemáticas\n",
    "* Calcule a raiz quadrada de cada elemento do primeiro array.\n",
    "* Calcule o logaritmo natural (ln) de cada elemento do primeiro array.\n",
    "* Calcule o seno (sin) de cada elemento do primeiro array.\n",
    "\n",
    "3. Estatísticas com Arrays\n",
    "\n",
    "Dado o array valores = `np.array([12, 45, 67, 23, 89, 34, 56, 78, 90, 11])`, calcule e exiba:\n",
    "\n",
    "* A média dos valores.\n",
    "* O valor mínimo e máximo.\n",
    "* O desvio padrão."
   ]
  },
  {
   "cell_type": "code",
   "execution_count": null,
   "id": "21a6183c-40fd-482b-8a6e-fa9b63cca1a0",
   "metadata": {},
   "outputs": [],
   "source": [
    "# Coloque o seu código. Se achar necessário pode incluir cada bloco em células diferentes #\n",
    "import numpy as np\n",
    "\n",
    "array_02 = np.array([1, 2, 3, 4, 5, 6, 7, 8, 9, 10])\n",
    "array_duplo = array_02 * 2\n",
    "array_quadrado = array_02 ** 2\n",
    "print(f\"Duplo: {array_duplo}, Quadrado: {array_quadrado}\")\n",
    "\n",
    "raiz_quadrada_array = np.sqrt(array_02)\n",
    "logaritmo_array = np.log(array_02)\n",
    "seno_array = np.sen(array_02)\n",
    "print(f\"Raiz quadrada: {raiz_quadrada_array}, Logaritmo: {logaritmo_array}, Seno: {seno_array}\")\n",
    "\n",
    "valores = np.array([12, 45, 67, 23, 89, 34, 56, 78, 90, 11])\n",
    "media_valores = np.mean(valores)\n",
    "minimo_valores = np.min(valores)\n",
    "maximo_valores = np.max(valores)\n",
    "desvio_padrao_valores = np.std(valores)\n",
    "print(f\"Média: {media_valores}, Mínimo: {minimo_valores}, Máximo: {maximo_valores}, Desvio padrão: {desvio_padrao_valores}\")"
   ]
  },
  {
   "cell_type": "markdown",
   "id": "38f331a4-4191-4c15-a7dc-fd40c215bba7",
   "metadata": {},
   "source": [
    "#### **1.10 Criando Arrays com `np.zeros()` e `np.ones()`**\n",
    "\n",
    "Essas funções criam arrays preenchidos apenas com zeros ou uns, úteis para inicializações e cálculos numéricos."
   ]
  },
  {
   "cell_type": "code",
   "execution_count": 11,
   "id": "94d5c14d-eb54-48c7-a40e-f07e9d346b83",
   "metadata": {},
   "outputs": [
    {
     "ename": "ModuleNotFoundError",
     "evalue": "No module named 'numpy'",
     "output_type": "error",
     "traceback": [
      "\u001b[31m---------------------------------------------------------------------------\u001b[39m",
      "\u001b[31mModuleNotFoundError\u001b[39m                       Traceback (most recent call last)",
      "\u001b[36mCell\u001b[39m\u001b[36m \u001b[39m\u001b[32mIn[11]\u001b[39m\u001b[32m, line 1\u001b[39m\n\u001b[32m----> \u001b[39m\u001b[32m1\u001b[39m \u001b[38;5;28;01mimport\u001b[39;00m\u001b[38;5;250m \u001b[39m\u001b[34;01mnumpy\u001b[39;00m\u001b[38;5;250m \u001b[39m\u001b[38;5;28;01mas\u001b[39;00m\u001b[38;5;250m \u001b[39m\u001b[34;01mnp\u001b[39;00m\n\u001b[32m      3\u001b[39m \u001b[38;5;66;03m# Criando um array de 5 elementos, todos zero\u001b[39;00m\n\u001b[32m      4\u001b[39m zeros = np.zeros(\u001b[32m5\u001b[39m)\n",
      "\u001b[31mModuleNotFoundError\u001b[39m: No module named 'numpy'"
     ]
    }
   ],
   "source": [
    "import numpy as np\n",
    "\n",
    "# Criando um array de 5 elementos, todos zero\n",
    "zeros = np.zeros(5)\n",
    "print(\"Array de zeros:\", zeros)"
   ]
  },
  {
   "cell_type": "code",
   "execution_count": 12,
   "id": "ae0b60f4-bb8b-4505-85a0-a3f247384bd0",
   "metadata": {},
   "outputs": [
    {
     "ename": "NameError",
     "evalue": "name 'np' is not defined",
     "output_type": "error",
     "traceback": [
      "\u001b[31m---------------------------------------------------------------------------\u001b[39m",
      "\u001b[31mNameError\u001b[39m                                 Traceback (most recent call last)",
      "\u001b[36mCell\u001b[39m\u001b[36m \u001b[39m\u001b[32mIn[12]\u001b[39m\u001b[32m, line 2\u001b[39m\n\u001b[32m      1\u001b[39m \u001b[38;5;66;03m# Criando um array de 7 elementos, todos 1\u001b[39;00m\n\u001b[32m----> \u001b[39m\u001b[32m2\u001b[39m uns = \u001b[43mnp\u001b[49m.ones(\u001b[32m7\u001b[39m)\n\u001b[32m      3\u001b[39m \u001b[38;5;28mprint\u001b[39m(\u001b[33m\"\u001b[39m\u001b[33mArray de uns:\u001b[39m\u001b[33m\"\u001b[39m, uns)\n",
      "\u001b[31mNameError\u001b[39m: name 'np' is not defined"
     ]
    }
   ],
   "source": [
    "# Criando um array de 7 elementos, todos 1\n",
    "uns = np.ones(7)\n",
    "print(\"Array de uns:\", uns)"
   ]
  },
  {
   "cell_type": "markdown",
   "id": "2b5eef5c-d109-440b-b94d-669cd18a9572",
   "metadata": {},
   "source": [
    "#### **1.11 Criando Sequências Numéricas com `np.arange()`**\n",
    "\n",
    "A função `np.arange(início, fim, passo)` gera sequências de números igualmente espaçados."
   ]
  },
  {
   "cell_type": "code",
   "execution_count": 10,
   "id": "d3991af5-b45d-4f37-ad50-9c87c1c1654d",
   "metadata": {},
   "outputs": [
    {
     "ename": "NameError",
     "evalue": "name 'np' is not defined",
     "output_type": "error",
     "traceback": [
      "\u001b[31m---------------------------------------------------------------------------\u001b[39m",
      "\u001b[31mNameError\u001b[39m                                 Traceback (most recent call last)",
      "\u001b[36mCell\u001b[39m\u001b[36m \u001b[39m\u001b[32mIn[10]\u001b[39m\u001b[32m, line 2\u001b[39m\n\u001b[32m      1\u001b[39m \u001b[38;5;66;03m# Criando um array de 0 a 10 com passo 2\u001b[39;00m\n\u001b[32m----> \u001b[39m\u001b[32m2\u001b[39m seq1 = \u001b[43mnp\u001b[49m.arange(\u001b[32m0\u001b[39m, \u001b[32m10\u001b[39m, \u001b[32m2\u001b[39m)\n\u001b[32m      3\u001b[39m \u001b[38;5;28mprint\u001b[39m(\u001b[33m\"\u001b[39m\u001b[33mSequência de 0 a 10 com passo 2:\u001b[39m\u001b[33m\"\u001b[39m, seq1)\n\u001b[32m      5\u001b[39m \u001b[38;5;66;03m# Criando uma sequência negativa\u001b[39;00m\n",
      "\u001b[31mNameError\u001b[39m: name 'np' is not defined"
     ]
    }
   ],
   "source": [
    "# Criando um array de 0 a 10 com passo 2\n",
    "seq1 = np.arange(0, 10, 2)\n",
    "print(\"Sequência de 0 a 10 com passo 2:\", seq1)\n",
    "\n",
    "# Criando uma sequência negativa\n",
    "seq2 = np.arange(10, 0, -2)\n",
    "print(\"Sequência decrescente de 10 a 0:\", seq2)\n"
   ]
  },
  {
   "cell_type": "markdown",
   "id": "93beb208-684a-4fb5-a58b-cde282db6b7f",
   "metadata": {},
   "source": [
    "#### **1.12 Criando Arrays com com `np.linspace()`**\n",
    "\n",
    "A função `np.linspace(início, fim, quantidade)` gera um número específico de valores igualmente distribuídos."
   ]
  },
  {
   "cell_type": "code",
   "execution_count": null,
   "id": "9192cdad-bd5d-4d07-832a-ff433acf7602",
   "metadata": {},
   "outputs": [],
   "source": [
    "# Criando um array de 5 valores entre 0 e 1\n",
    "linspace1 = np.linspace(0, 1, 5)\n",
    "print(\"5 valores entre 0 e 1:\", linspace1)\n",
    "\n",
    "# Criando um array de 10 valores entre -5 e 5\n",
    "linspace2 = np.linspace(-5, 5, 10)\n",
    "print(\"10 valores entre -5 e 5:\", linspace2)\n"
   ]
  },
  {
   "cell_type": "markdown",
   "id": "84259b02-0822-4b0a-9fad-266e231bb15e",
   "metadata": {},
   "source": [
    "* Diferença entre `np.arange()` e `np.linspace()`\n",
    "\n",
    "`np.arange()` define valores com base no passo (exemplo: `np.arange(0, 10, 2)` → `[0, 2, 4, 6, 8]`).\n",
    "\n",
    "`np.linspace()` define quantidade fixa de pontos dentro do intervalo (exemplo: `np.linspace(0, 10, 5)` → `[0, 2.5, 5, 7.5, 10]`)."
   ]
  },
  {
   "cell_type": "markdown",
   "id": "a075fe55-2090-4ea0-891d-0fde1ca5796a",
   "metadata": {},
   "source": [
    "<div class=\"alert alert-danger\"> <strong> &#x1F4DD; Atividade 3</strong>  \n",
    "\n",
    "1. Criando Arrays com np.zeros() e np.ones()\n",
    "* Crie um array de tamanho 6 preenchido com zeros e exiba-o.\n",
    "* Crie um array de tamanho 4 preenchido com uns e exiba-o.\n",
    "* Crie um array de tamanho 8 preenchido com uns e multiplique todos os valores por 5.\n",
    "\n",
    "2. Criando Sequências Numéricas com np.arange()\n",
    "* Crie um array NumPy contendo os números de 10 a 30 (inclusive), com passo de 5.\n",
    "* Crie um array NumPy contendo os números pares de 2 a 20.\n",
    "* Crie um array NumPy contendo os números de 50 até 5, de trás para frente, com passo -5.\n",
    "\n",
    "3. Criando Arrays com np.linspace()\n",
    "* Crie um array contendo 5 valores igualmente espaçados entre 0 e 1.\n",
    "* Crie um array contendo 8 valores igualmente espaçados entre -5 e 5.\n",
    "* Crie um array contendo 10 valores igualmente espaçados entre 100 e 200 e exiba apenas os três primeiros elementos."
   ]
  },
  {
   "cell_type": "code",
   "execution_count": null,
   "id": "d3bd5969-433b-47fb-979e-b1e915ce1d20",
   "metadata": {},
   "outputs": [],
   "source": [
    "# Coloque o seu código. Se achar necessário pode incluir cada bloco em células diferentes #\n",
    "import numpy as np\n",
    "\n",
    "array_zeros = np.zeros(6)\n",
    "array_ones = np.ones(4)\n",
    "array_multi = np.ones(8) * 5\n",
    "print(f\"Zeros: {array_zeros}, Uns: {array_ones}, Multiplicado: {array_multi}\")\n",
    "\n",
    "seq1 = np.arange(10, 30, 5)\n",
    "seq2 = np.arange(0, 20, 2)\n",
    "seq3 = np.arange(50, 5, -5)\n",
    "print(f\"Sequência 1: {seq1}, Sequência 2: {seq2}, Sequência 3: {seq3}\")"
   ]
  },
  {
   "cell_type": "markdown",
   "id": "860af04b-461d-42a3-b4e1-bbdf8df1187a",
   "metadata": {},
   "source": [
    "### **2. O que é o Matplotlib?**\n",
    "\n",
    "*  Principal biblioteca de visualização de dados em Python.\n",
    "*  Permite criar gráficos simples e complexos.\n",
    "*  Permite visualizar diretamente os arrays e cálculos feitos com o NumPy."
   ]
  },
  {
   "cell_type": "markdown",
   "id": "962b76d6-46b3-4ab0-b6cc-6a0d92151601",
   "metadata": {},
   "source": [
    "#### **2.1 Estrutura Básica de um Gráfico**\n",
    "\n",
    "* Criamos dois conjuntos de dados (x e y).\n",
    "* `plt.plot(x, y)` → Plota um gráfico de linha conectando os pontos (x, y).\n",
    "* `plt.xlabel()` e `plt.ylabel()` → Adicionam rótulos nos eixos.\n",
    "* `plt.title()` → Adiciona um título ao gráfico.\n",
    "* `plt.show()` → Exibe o gráfico na tela."
   ]
  },
  {
   "cell_type": "code",
   "execution_count": null,
   "id": "93eb51cb-0ca6-4f52-988f-1fda768e6c17",
   "metadata": {},
   "outputs": [],
   "source": [
    "import matplotlib.pyplot as plt\n",
    "\n",
    "# Dados para o gráfico\n",
    "x = [1, 2, 3, 4, 5]      #Entrada como pontos de um par ordenado (x,y)\n",
    "y = [10, 20, 25, 30, 40] #Entrada como pontos de um par ordenado (x,y)\n",
    "\n",
    "# Criando o gráfico\n",
    "plt.plot(x, y) \n",
    "\n",
    "# Adicionando rótulos e título\n",
    "plt.xlabel(\"Eixo X\")  \n",
    "plt.ylabel(\"Eixo Y\")  \n",
    "plt.title(\"Meu Primeiro Gráfico\")  \n",
    "\n",
    "# Exibir o gráfico\n",
    "plt.show()\n"
   ]
  },
  {
   "cell_type": "markdown",
   "id": "f9e48d01-ea67-44fd-b341-8acbaa4e82bc",
   "metadata": {},
   "source": [
    "#### **2.2 Gráfico de uma Função usando `np.linspace()`**\n",
    "\n",
    "Como exemplo vamos criar um gráfico da função $f(x) = x^2 - 4x +2$"
   ]
  },
  {
   "cell_type": "code",
   "execution_count": null,
   "id": "619e07aa-9128-488c-9b3b-59706a7461c7",
   "metadata": {},
   "outputs": [],
   "source": [
    "import numpy as np\n",
    "import matplotlib.pyplot as plt\n",
    "\n",
    "# Gerando valores para o eixo X (de -2 a 6 com 100 pontos)\n",
    "x = np.linspace(-2, 6, 100)  \n",
    "\n",
    "# Definindo a função f(x) = x² - 4x + 2\n",
    "y = x**2 - 4*x + 2  \n",
    "\n",
    "# Criando o gráfico\n",
    "plt.plot(x, y, label=r'$f(x) = x^2 - 4x + 2$', color='b')  \n",
    "\n",
    "# Adicionando rótulos e título\n",
    "plt.xlabel(\"Eixo X\")  \n",
    "plt.ylabel(\"Eixo Y\")  \n",
    "plt.title(\"Gráfico da Função Quadrática\")  \n",
    "\n",
    "# Adicionando uma grade e legenda\n",
    "plt.grid(True)\n",
    "plt.legend()\n",
    "\n",
    "# Exibir o gráfico\n",
    "plt.show()\n"
   ]
  },
  {
   "cell_type": "markdown",
   "id": "d6d1452c-cec7-4d0b-9d81-22d78062ea44",
   "metadata": {},
   "source": [
    "##### **Explicação do Código**\n",
    "\n",
    "* `np.linspace(-2, 6, 100)` → Gera 100 pontos entre -2 e 6 no eixo X.\n",
    "* y = x**2 - 4*x + 2 → Calcula os valores do eixo Y aplicando a função quadrática.\n",
    "* `plt.plot(x, y, label=...)` → Plota a curva e adiciona um rótulo para a legenda.\n",
    "* `plt.xlabel()` e `plt.ylabel()` → Definem rótulos para os eixos.\n",
    "* `plt.title()` → Adiciona um título ao gráfico.\n",
    "* `plt.grid(True)` → Adiciona uma grade ao gráfico para melhor visualização.\n",
    "* `plt.legend()` → Exibe a legenda do gráfico.\n",
    "* `plt.show()` → Exibe o gráfico na tela.\n"
   ]
  },
  {
   "cell_type": "markdown",
   "id": "17eba4a4-8c00-4b25-a7ae-fe3386b757a0",
   "metadata": {},
   "source": [
    "<div class=\"alert alert-danger\"> <strong> &#x1F4DD; Atividade 4</strong>  \n",
    "\n",
    "1. Crie um array x usando `np.linspace()` para gerar 50 valores entre -5 e 5.\n",
    "* Defina a função $f(x) = 3x^3 -2x^2 +x -5$ e calcule os valores correspondentes de y.\n",
    "* Plote o gráfico da função usando `plt.plot()`, escolhendo uma cor de sua preferência.\n",
    "* Adicione rótulos nos eixos X e Y.\n",
    "* Adicione um título ao gráfico.\n",
    "* Ative a grade no gráfico.\n",
    "* Adicione uma legenda com o nome da função.\n",
    "* Exiba o gráfico.\n",
    "\n"
   ]
  },
  {
   "cell_type": "code",
   "execution_count": null,
   "id": "0486f0c0-d4c9-4a00-928c-0285093e6926",
   "metadata": {},
   "outputs": [],
   "source": [
    "# Coloque o seu código #\n",
    "import numpy as np\n",
    "import matplotlib.pyplot as plt\n",
    "\n",
    "x = np.linspace(-5, 5, 50)\n",
    "y = 3 * (x ** 3) - 2 * (x ** 2) + x - 5\n",
    "\n",
    "plt.plot(x, y, label=r'$f(x) = 3x^3 - 2x^2 + x - 5$', color='r')\n",
    "plt.xlabel(\"Eixo X\")  \n",
    "plt.ylabel(\"Eixo Y\")\n",
    "plt.title(\"Gráfico da Função de Terceiro Grau\")\n",
    "\n",
    "plt.grid(True)\n",
    "plt.legend()\n",
    "\n",
    "plt.show()\n"
   ]
  },
  {
   "cell_type": "markdown",
   "id": "fdb3b2c4-ac12-44f3-8343-341eb21d3010",
   "metadata": {},
   "source": [
    "#### **2.3 Personalização de Gráficos no Matplotlib**"
   ]
  },
  {
   "cell_type": "markdown",
   "id": "622799e4-ba17-4f51-8d27-96e3783fb27b",
   "metadata": {},
   "source": [
    "##### **2.3.1 Mudando cor e estilo da linha**"
   ]
  },
  {
   "cell_type": "code",
   "execution_count": null,
   "id": "5ca92e86-3cda-4f83-ac5d-9b67a6bdd12f",
   "metadata": {},
   "outputs": [],
   "source": [
    "import numpy as np\n",
    "import matplotlib.pyplot as plt\n",
    "\n",
    "# Gerando valores para X\n",
    "x = np.linspace(0, 10, 100)\n",
    "y = np.sin(x)  # Função seno\n",
    "\n",
    "# Criando o gráfico com cor vermelha e linha tracejada\n",
    "plt.plot(x, y, color='red', linestyle='--', linewidth=2, label='Seno')\n",
    "\n",
    "# Personalizando o gráfico\n",
    "plt.xlabel(\"Eixo X\")\n",
    "plt.ylabel(\"Eixo Y\")\n",
    "plt.title(\"Personalizando Cor e Estilo da Linha\")\n",
    "plt.legend()\n",
    "plt.grid(True)\n",
    "\n",
    "# Exibir gráfico\n",
    "plt.show()\n"
   ]
  },
  {
   "cell_type": "markdown",
   "id": "10e2aa97-92fe-42f6-9805-4fb1986728c6",
   "metadata": {},
   "source": [
    "1.  Personalizações usadas:\n",
    "\n",
    "* `color='red'` → Define a cor da linha.\n",
    "* `linestyle='--'` → Define um estilo tracejado.\n",
    "* `linewidth=2` → Define a espessura da linha."
   ]
  },
  {
   "cell_type": "markdown",
   "id": "53297350-b5b0-4c2f-9349-d60ec3cd18e4",
   "metadata": {},
   "source": [
    "##### **2.3.2 Adicionando Marcadores nos Pontos**"
   ]
  },
  {
   "cell_type": "code",
   "execution_count": null,
   "id": "df6e21dd-2001-4b04-ab0d-006439b88864",
   "metadata": {},
   "outputs": [],
   "source": [
    "plt.plot(x, y, color='blue', marker='o', linestyle='-', markersize=5, label='Seno')\n",
    "plt.legend()\n",
    "plt.grid(True)\n",
    "plt.show()\n"
   ]
  },
  {
   "cell_type": "markdown",
   "id": "300c6209-8e05-4768-b5f9-a8cf5fb08c94",
   "metadata": {},
   "source": [
    "##### **2.3.3 Adicionando Legendas e Rótulos**\n",
    "\n",
    "Um gráfico precisa ser informativo! Podemos adicionar:\n",
    "\n",
    "* Título (`plt.title()`)\n",
    "* Rótulos dos eixos (`plt.xlabel()` e `plt.ylabel()`)\n",
    "* Legenda (`plt.legend()`)"
   ]
  },
  {
   "cell_type": "code",
   "execution_count": null,
   "id": "8b5cf0b9-e9a6-40ef-8dc9-784c92e54604",
   "metadata": {},
   "outputs": [],
   "source": [
    "plt.plot(x, y, color='purple', marker='D', linestyle='-', label='Seno')\n",
    "\n",
    "# Adicionando informações ao gráfico\n",
    "plt.xlabel(\"Tempo (s)\")  # Nome do eixo X\n",
    "plt.ylabel(\"Amplitude\")  # Nome do eixo Y\n",
    "plt.title(\"Gráfico de Seno Personalizado\")  # Título do gráfico\n",
    "plt.legend()  # Adicionando legenda\n",
    "\n",
    "plt.grid(True)  # Adicionando grade\n",
    "plt.show()\n"
   ]
  },
  {
   "cell_type": "markdown",
   "id": "afa5b5e5-a03b-4a8c-92b6-dd8777a7a3db",
   "metadata": {},
   "source": [
    "##### **2.3.4 Definindo os Limites dos Eixos**\n",
    "\n",
    "Podemos controlar a escala dos eixos usando `plt.xlim()` e `plt.ylim()`."
   ]
  },
  {
   "cell_type": "code",
   "execution_count": null,
   "id": "eb7b82b4-c9d8-4d1c-8dec-049919655efb",
   "metadata": {},
   "outputs": [],
   "source": [
    "plt.plot(x, y, color='orange', linestyle='-')\n",
    "\n",
    "plt.xlim(0, 8)  # Define os limites do eixo X\n",
    "plt.ylim(-1, 1)  # Define os limites do eixo Y\n",
    "\n",
    "plt.xlabel(\"Tempo (s)\")\n",
    "plt.ylabel(\"Amplitude\")\n",
    "plt.title(\"Definindo Limites dos Eixos\")\n",
    "plt.grid(True)\n",
    "\n",
    "plt.show()\n"
   ]
  },
  {
   "cell_type": "markdown",
   "id": "4ab90f12-3fbd-4699-b985-d874f1cf1742",
   "metadata": {},
   "source": [
    "##### **2.3.5 Criando Múltiplos Gráficos no Mesmo Painel**\n",
    "\n",
    "Podemos exibir vários gráficos juntos usando `plt.subplot()`"
   ]
  },
  {
   "cell_type": "code",
   "execution_count": null,
   "id": "bc7353b8-f159-48c3-bd9d-1461967ac6bf",
   "metadata": {},
   "outputs": [],
   "source": [
    "# Criando figura com 2 subgráficos (1 linha, 2 colunas)\n",
    "plt.figure(figsize=(10, 4))\n",
    "\n",
    "# Primeiro gráfico\n",
    "plt.subplot(1, 2, 1)\n",
    "plt.plot(x, np.sin(x), 'b-', label=\"Seno\")\n",
    "plt.title(\"Seno\")\n",
    "plt.legend()\n",
    "\n",
    "# Segundo gráfico\n",
    "plt.subplot(1, 2, 2)\n",
    "plt.plot(x, np.cos(x), 'r--', label=\"Cosseno\")\n",
    "plt.title(\"Cosseno\")\n",
    "plt.legend()\n",
    "\n",
    "plt.show()\n"
   ]
  },
  {
   "cell_type": "markdown",
   "id": "66d9629d-5317-4e97-97a2-dacf6c437eaa",
   "metadata": {},
   "source": [
    "**Explicação:**\n",
    "* `plt.figure(figsize=(largura, altura))` → Define o tamanho da figura o Matplotlib define o tamanho da figura em polegadas.\n",
    "* `plt.subplot(1, 2, 1)` → Indica 1 linha, 2 colunas, primeiro gráfico.\n",
    "* `plt.subplot(1, 2, 2)` → Indica segundo gráfico."
   ]
  },
  {
   "cell_type": "markdown",
   "id": "7a9a2f91-7143-4842-ac60-21ceaca58d89",
   "metadata": {},
   "source": [
    "<div class=\"alert alert-danger\"> <strong> &#x1F4DD; Atividade 5</strong>  \n",
    "\n",
    "1. Criando um Gráfico Personalizado\n",
    "\n",
    "* Crie um array x usando `np.linspace()` para gerar 100 valores entre -10 e 10.\n",
    "* Defina a função $f(x) = x^3 -4x +2$  e calcule os valores correspondentes de y.\n",
    "* Plote o gráfico de com as seguintes personalizações:\n",
    "    * Cor verde (`color='green'`)\n",
    "    * Estilo de linha pontilhada (`linestyle=':'`)\n",
    "    * Espessura da linha 2.5 (`linewidth=2.5`)\n",
    "* Adicione marcadores nos pontos com `marker='o'` e tamanho `markersize=5`.\n",
    "* Adicione rótulos nos eixos e título no gráfico.\n",
    "* Ative a grade e adicione uma legenda.\n",
    "* Defina os limites do eixo X entre -8 e 8, e do eixo Y entre -100 e 100."
   ]
  },
  {
   "cell_type": "code",
   "execution_count": null,
   "id": "18e5d6e4-5bbb-4281-a4de-9b9c359f1993",
   "metadata": {},
   "outputs": [],
   "source": [
    "## Coloque seu código aqui##\n",
    "import numpy as np\n",
    "import matplotlib.pyplot as plt\n",
    "\n",
    "x = np.linspace(-10, 10, 100)\n",
    "y = x ** 3 - 4 * x + 2\n",
    "\n",
    "plt.plot(x, y, color='green', linestyle=':', linewidth=2.5, marker='o', markersize=5, label='f(x) = x^3 - 4x + 2')\n",
    "plt.xlabel(\"Eixo X\")\n",
    "plt.ylabel(\"Eixo Y\")\n",
    "plt.title(\"Gráfico Personalizado\")\n",
    "plt.legend()\n",
    "plt.xlim(-8, 8)\n",
    "plt.ylim(-100, 100)\n",
    "\n",
    "plt.grid(True)\n",
    "plt.show()"
   ]
  },
  {
   "cell_type": "markdown",
   "id": "08e94ac5-e3c1-43d3-b49a-cabb42abff2c",
   "metadata": {},
   "source": [
    "<div class=\"alert alert-danger\"> <strong> &#x1F4DD; Atividade 6</strong>  \n",
    "\n",
    "Considere as seuintes equações paramétricas:\n",
    "\n",
    "$x = 16sen^3(t)$\n",
    "\n",
    "$y = 13cos(t) - 5cos(2t) -2cos(3t) -cos(4t)$\n",
    "\n",
    "onde $t$ varia de $0$ a $2\\pi$\n",
    "\n",
    "Plote o gráfico de (x,y) com as seguintes especificações:\n",
    "\n",
    "* Use `np.linspace(0, 2*np.pi, 1000)` para definir 1000 pontos para o intervalo de $t$.\n",
    "* Plote a função com cor vermelha (`color='red'`) e espessura 3.\n",
    "* Adiciona uma grade ao gráfico para melhor visualização\n"
   ]
  },
  {
   "cell_type": "code",
   "execution_count": 13,
   "id": "802feb02-fca0-446c-ac2e-e87be7b32912",
   "metadata": {},
   "outputs": [
    {
     "ename": "ModuleNotFoundError",
     "evalue": "No module named 'numpy'",
     "output_type": "error",
     "traceback": [
      "\u001b[31m---------------------------------------------------------------------------\u001b[39m",
      "\u001b[31mModuleNotFoundError\u001b[39m                       Traceback (most recent call last)",
      "\u001b[36mCell\u001b[39m\u001b[36m \u001b[39m\u001b[32mIn[13]\u001b[39m\u001b[32m, line 2\u001b[39m\n\u001b[32m      1\u001b[39m \u001b[38;5;66;03m## Coloque seu código aqui##\u001b[39;00m\n\u001b[32m----> \u001b[39m\u001b[32m2\u001b[39m \u001b[38;5;28;01mimport\u001b[39;00m\u001b[38;5;250m \u001b[39m\u001b[34;01mnumpy\u001b[39;00m\u001b[38;5;250m \u001b[39m\u001b[38;5;28;01mas\u001b[39;00m\u001b[38;5;250m \u001b[39m\u001b[34;01mnp\u001b[39;00m\n\u001b[32m      3\u001b[39m \u001b[38;5;28;01mimport\u001b[39;00m\u001b[38;5;250m \u001b[39m\u001b[34;01mmatplotlib\u001b[39;00m\u001b[34;01m.\u001b[39;00m\u001b[34;01mpyplot\u001b[39;00m\u001b[38;5;250m \u001b[39m\u001b[38;5;28;01mas\u001b[39;00m\u001b[38;5;250m \u001b[39m\u001b[34;01mplt\u001b[39;00m\n\u001b[32m      5\u001b[39m \u001b[38;5;66;03m# Definindo o intervalo de t\u001b[39;00m\n",
      "\u001b[31mModuleNotFoundError\u001b[39m: No module named 'numpy'"
     ]
    }
   ],
   "source": [
    "## Coloque seu código aqui##\n",
    "import numpy as np\n",
    "import matplotlib.pyplot as plt\n",
    "\n",
    "# Definindo o intervalo de t\n",
    "t = np.linspace(0, 2 * np.pi, 1000)\n",
    "\n",
    "# Definindo as equações paramétricas\n",
    "x = 16 * np.sin(t)**3\n",
    "y = 13 * np.cos(t) - 5 * np.cos(2 * t) - 2 * np.cos(3 * t) - np.cos(4 * t)\n",
    "\n",
    "# Plotando o gráfico\n",
    "plt.plot(x, y, color='red', linewidth=3)\n",
    "\n",
    "# Adicionando grade ao gráfico\n",
    "plt.grid(True)\n",
    "\n",
    "# Exibindo o gráfico\n",
    "plt.show()"
   ]
  }
 ],
 "metadata": {
  "kernelspec": {
   "display_name": "Python 3",
   "language": "python",
   "name": "python3"
  },
  "language_info": {
   "codemirror_mode": {
    "name": "ipython",
    "version": 3
   },
   "file_extension": ".py",
   "mimetype": "text/x-python",
   "name": "python",
   "nbconvert_exporter": "python",
   "pygments_lexer": "ipython3",
   "version": "3.13.0"
  }
 },
 "nbformat": 4,
 "nbformat_minor": 5
}
