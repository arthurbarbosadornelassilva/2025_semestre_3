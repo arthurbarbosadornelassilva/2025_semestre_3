{
  "cells": [
    {
      "cell_type": "markdown",
      "id": "a0f9fc65",
      "metadata": {
        "id": "a0f9fc65"
      },
      "source": [
        "<img src= \"https://maua.br/images/logo-IMT.png\" width=250>"
      ]
    },
    {
      "cell_type": "markdown",
      "id": "cf4b175c",
      "metadata": {
        "id": "cf4b175c"
      },
      "source": [
        "#  <center> <font color=#023e8a>  **CIC202: Física e Modelagem Computacional**  <center>\n",
        " <center> Prof. Sandro Martini <center>"
      ]
    },
    {
      "cell_type": "markdown",
      "id": "89f58705",
      "metadata": {
        "id": "89f58705"
      },
      "source": [
        "## <center>  **Semana 07: Cinemática Unidimensional (1D)**"
      ]
    },
    {
      "cell_type": "markdown",
      "id": "401c1d27",
      "metadata": {
        "id": "401c1d27"
      },
      "source": [
        "### Nome: <font color=red> Arthur Silva"
      ]
    },
    {
      "cell_type": "markdown",
      "id": "02fd0026",
      "metadata": {
        "id": "02fd0026"
      },
      "source": [
        "### Instruções iniciais:\n",
        "\n",
        "1. Coloque ambos os arquivos que você baixou no mesmo diretório;\n",
        "2. Leia o notebook e realize as tarefas indicadas;\n",
        "4. Quando tiver terminado, envie esse próprio arquivo com as atividades realizadas.\n",
        "5. Apenas um aluno da dupla deve enviar o arquivo;\n",
        "6. O laboratório é um momento de independência para que você possa aprender de forma autônoma. Por isso leia atentamente as instruções, discuta com os colegas os exercícios, os códigos e as soluções.\n",
        "   \n",
        "\n"
      ]
    },
    {
      "cell_type": "markdown",
      "id": "3d41bd72",
      "metadata": {
        "id": "3d41bd72"
      },
      "source": [
        "### Objetivos:"
      ]
    },
    {
      "cell_type": "markdown",
      "id": "260af190",
      "metadata": {
        "id": "260af190"
      },
      "source": [
        "-  Aplicar os conceitos iniciais da cinemática unidimensional.\n",
        "-  Modelar e resolver computacionalmente problemas da cinemática.\n",
        "-  Resolver exercícios."
      ]
    },
    {
      "cell_type": "markdown",
      "id": "96c45d41",
      "metadata": {
        "id": "96c45d41"
      },
      "source": [
        "### Cinemática unidimensional com Usain Bolt"
      ]
    },
    {
      "cell_type": "markdown",
      "id": "76d576f3",
      "metadata": {
        "id": "76d576f3"
      },
      "source": [
        "Em uma fantástica corrida na final dos 100 m rasos dos Jogos Olímpicos de 2008 em Pequim, Usain\n",
        "Bolt estabeleceu um novo recorde mundial de 9,69 s. Ele até reservou um tempo para comemorar sua vitória\n",
        "nos últimos 20 metros da corrida. Depois esse recorde olímpico foi quebrado pelo próprio Bolt nos Jogos Olímpicos de Londres em 2012, com um tempo de 9.63 s."
      ]
    },
    {
      "cell_type": "code",
      "execution_count": 1,
      "id": "35f45a92",
      "metadata": {
        "id": "35f45a92"
      },
      "outputs": [],
      "source": [
        "from IPython.display import HTML"
      ]
    },
    {
      "cell_type": "code",
      "execution_count": 2,
      "id": "38c06dee",
      "metadata": {
        "colab": {
          "base_uri": "https://localhost:8080/",
          "height": 339
        },
        "id": "38c06dee",
        "outputId": "969b323e-88d4-4df0-f758-67863ca18830"
      },
      "outputs": [
        {
          "output_type": "execute_result",
          "data": {
            "text/plain": [
              "<IPython.core.display.HTML object>"
            ],
            "text/html": [
              "\n",
              "<div align=\"center\">\n",
              "    <iframe width=\"560\" height=\"315\"\n",
              "    src=\"https://www.youtube.com/embed/k4TJPOzcj8c\"\n",
              "    </iframe>\n",
              "</div>\n"
            ]
          },
          "metadata": {},
          "execution_count": 2
        }
      ],
      "source": [
        "HTML(\"\"\"\n",
        "<div align=\"center\">\n",
        "    <iframe width=\"560\" height=\"315\"\n",
        "    src=\"https://www.youtube.com/embed/k4TJPOzcj8c\"\n",
        "    </iframe>\n",
        "</div>\n",
        "\"\"\")"
      ]
    },
    {
      "cell_type": "markdown",
      "id": "dc370a03",
      "metadata": {
        "id": "dc370a03"
      },
      "source": [
        "#### Descrição e diagrama do movimento"
      ]
    },
    {
      "cell_type": "markdown",
      "id": "c4ff270c",
      "metadata": {
        "id": "c4ff270c"
      },
      "source": [
        "Como podemos descrever o movimento de Usain Bolt?\n",
        "\n",
        "1. **Sistema de referência e origem**: escolhemos medir a posição ao longo da pista. Chamamos essa direção de eixo $x$. A posição $x$ é medida a partir da linha de partida, que chamamos de origem - o ponto onde $x$ é zero. A escolha de uma origem e um eixo é chamado de sistema de referência. O eixo tem uma direção que nos diz em que direção $x$ está crescendo – isso é indicado pela seta no eixo. O eixo é direcionado da linha de partida para a linha de chegada, de modo que a posição do corredor aumenta durante a corrida. Você é livre para escolher os eixos e a origem do seu sistema de referência como quiser, mas geralmente tentamos escolher de forma que as medições se tornem simples.  \n",
        "\n",
        "2. **Ponto material**: um método para definir a posição do atleta é considerar a posição de um ponto do tórax do atleta. Para cada imagem, desenhamos um ponto material no chão diretamente abaixo de seu tórax, resultando em uma sequência de pontos ao longo da pista.\n",
        "\n",
        "3. **Posição e tempo**: o movimento é então descrito pela posição, $x(t)$, em função do tempo, $t$, medido no sistema de referência proposto.\n",
        "\n",
        "As figuras abaixo ilustram esses passos."
      ]
    },
    {
      "cell_type": "markdown",
      "id": "06504671",
      "metadata": {
        "id": "06504671"
      },
      "source": [
        "<img src= \"2025_1S_SEMANA_07_FIG_01.jpg\" width=700>"
      ]
    },
    {
      "cell_type": "markdown",
      "id": "fa238b65",
      "metadata": {
        "id": "fa238b65"
      },
      "source": [
        "<div class= \"alert alert-info\"><b>Computacionalmente </b> podemos modelar o movimento do atleta discretizando o tempo que ele leva para percorrer toda a prova, ou seja, dividindo o tempo em pequenos intervalos iguais, $\\Delta t$. O movimento pode ser descrito por uma sequência $x_i$, cada uma correspondente à posição do atleta no instante de tempo $t_i$, no qual $i = 0,1,2, 3...$, sendo $t_i = t_0 +i\\Delta t$. </div>"
      ]
    },
    {
      "cell_type": "markdown",
      "id": "d3ca97e8",
      "metadata": {
        "id": "d3ca97e8"
      },
      "source": [
        "A tabela a seguir apresenta os dados **aproximados** da posição e tempo do atleta durante a corrida:  "
      ]
    },
    {
      "cell_type": "markdown",
      "id": "e9378129",
      "metadata": {
        "id": "e9378129"
      },
      "source": [
        "| *i* |$t_i$ (s)|$x_i$ (m)|\n",
        "|:---:|:---:|:---:|\n",
        "| 0 | 0.0 | 0.0 |\n",
        "| 1 | 1.0 | 3.4 |\n",
        "| 2 | 2.0 | 11.4 |\n",
        "| 3 | 3.0 | 21.6 |\n",
        "| 4 | 4.0 | 33.3 |\n",
        "| 5 | 5.0 | 45.0 |\n",
        "| 6 | 6.0 | 57.9 |\n",
        "| 7 | 7.0 | 69.6 |\n",
        "| 8 | 8.0 | 81.0 |\n",
        "| 9 | 9.0 | 93.1 |"
      ]
    },
    {
      "cell_type": "markdown",
      "id": "4ae573bf",
      "metadata": {
        "id": "4ae573bf"
      },
      "source": [
        "<div class=\"alert alert-danger\"> <strong> &#x1F4DD; Atividade 1:</strong>  \n",
        "\n",
        "A partir dos dados da tabela acima, desenvolva um código para plotar a posição do atleta em função do tempo. O gráfico deve conter título e os labels dos eixos $x$ e $y$.</div>"
      ]
    },
    {
      "cell_type": "code",
      "execution_count": 15,
      "id": "84130161",
      "metadata": {
        "colab": {
          "base_uri": "https://localhost:8080/",
          "height": 490
        },
        "id": "84130161",
        "outputId": "48f2f941-491f-4152-9995-3565d7d89726"
      },
      "outputs": [
        {
          "output_type": "execute_result",
          "data": {
            "text/plain": [
              "Text(0.5, 1.0, 'Tabela de Posição do Atleta em Função do Tempo')"
            ]
          },
          "metadata": {},
          "execution_count": 15
        },
        {
          "output_type": "display_data",
          "data": {
            "text/plain": [
              "<Figure size 640x480 with 1 Axes>"
            ],
            "image/png": "[encoded data removed]"
          },
          "metadata": {}
        }
      ],
      "source": [
        "#Coloque seu código aqui\n",
        "import numpy as np\n",
        "import matplotlib.pyplot as plt\n",
        "\n",
        "#Declaração dos dados:\n",
        "x = [0, 1, 2, 3, 4, 5, 6, 7, 8, 9]\n",
        "y = [0.0, 3.4, 11.4, 21.6 , 33.3, 45.0, 57.9, 69.6, 81.0, 93.1]\n",
        "\n",
        "# Criando o gráfico\n",
        "plt.plot(x, y)\n",
        "\n",
        "# Adicionando rótulos e título\n",
        "plt.xlabel(\"Eixo X - Distância\")\n",
        "plt.ylabel(\"Eixo Y - Tempo\")\n",
        "plt.title(\"Tabela de Posição do Atleta em Função do Tempo\")"
      ]
    },
    {
      "cell_type": "markdown",
      "id": "be6287a8",
      "metadata": {
        "id": "be6287a8"
      },
      "source": [
        "<div class=\"alert alert-warning\"><strong>Questão:</strong> No gráfico obtido, entre os intervalos de 2 s e 8 s, o comportamento da posição em função do tempo poderia seria descrito por qual tipo de função (primeiro grau, segundo grau, logarítmica etc.)?</div>"
      ]
    },
    {
      "cell_type": "markdown",
      "id": "eff07ee4",
      "metadata": {
        "id": "eff07ee4"
      },
      "source": [
        "**Resposta:** Função Exponencial"
      ]
    },
    {
      "cell_type": "markdown",
      "id": "c09006b6",
      "metadata": {
        "id": "c09006b6"
      },
      "source": [
        "<div class=\"alert alert-danger\"> <strong>&#x1F4DD; Atividade 2:</strong>\n",
        "\n",
        "Crie um código para calcular a velocidade média do atleta para cada intervalo de tempo $\\Delta t$ = 1 s. Lembre-se de fornecer essas velocidades como uma saída para o usuário. </div>"
      ]
    },
    {
      "cell_type": "code",
      "execution_count": 49,
      "id": "0b256e91",
      "metadata": {
        "colab": {
          "base_uri": "https://localhost:8080/"
        },
        "id": "0b256e91",
        "outputId": "15d18e76-644f-4ff5-a0ef-8ce1b7089703"
      },
      "outputs": [
        {
          "output_type": "stream",
          "name": "stdout",
          "text": [
            "[3.4, 8.0, 10.200000000000001, 11.699999999999996, 11.700000000000003, 12.899999999999999, 11.699999999999996, 11.400000000000006, 12.099999999999994]\n"
          ]
        }
      ],
      "source": [
        "#Coloque seu código aqui\n",
        "velocidades = []\n",
        "\n",
        "for i in range(1, len(y)):\n",
        "    delta_s = y[i] - y[i - 1]  # Variação da posição\n",
        "    delta_t = x[i] - x[i - 1]  # Variação do tempo (1s)\n",
        "    v_m = delta_s / delta_t  # Cálculo da velocidade média\n",
        "    velocidades.append(v_m)\n",
        "print(velocidades)"
      ]
    },
    {
      "cell_type": "markdown",
      "id": "94c642a8",
      "metadata": {
        "id": "94c642a8"
      },
      "source": [
        "<div class=\"alert alert-danger\"> <strong>&#x1F4DD; Atividade 3:</strong>\n",
        "\n",
        "A partir das velocidades médias obtidas anteriormente, plote um gráfico do tipo <strong><i>step</i></strong> para a velocidade média para cada um dos intervalos $\\Delta t$. Veja uma referência no site <a href=\"https://matplotlib.org/stable/plot_types/basic/step.html\">Matplotlib.</a></div>"
      ]
    },
    {
      "cell_type": "code",
      "execution_count": 53,
      "id": "c837894a",
      "metadata": {
        "colab": {
          "base_uri": "https://localhost:8080/",
          "height": 251
        },
        "id": "c837894a",
        "outputId": "b27aad2b-afb8-445b-a296-7236fe5d4eb8"
      },
      "outputs": [
        {
          "output_type": "display_data",
          "data": {
            "text/plain": [
              "<Figure size 200x200 with 1 Axes>"
            ],
            "image/png": "[encoded data removed]"
          },
          "metadata": {}
        }
      ],
      "source": [
        "#Coloque seu código aqui\n",
        "plt.style.use('_mpl-gallery')\n",
        "\n",
        "# make data\n",
        "y = [0.0, 3.4, 11.4, 21.6 , 33.3, 45.0, 57.9, 69.6, 81.0, 93.1]\n",
        "\n",
        "# plot\n",
        "fig, ax = plt.subplots()\n",
        "\n",
        "ax.stairs(y, linewidth=2)\n",
        "\n",
        "ax.set(xlim=(0, 9), xticks=np.arange(1, 9), ylim=(0, 9), yticks=np.arange(1, 9))\n",
        "\n",
        "plt.show()"
      ]
    },
    {
      "cell_type": "markdown",
      "id": "cd2a09a6",
      "metadata": {
        "id": "cd2a09a6"
      },
      "source": [
        "<div class=\"alert alert-warning\"><strong>Questão:</strong> No gráfico obtido existe alguma região em que a velocidade média é próxima de ser constante? Se sim, indique qual é essa região (intervalo).</div>"
      ]
    },
    {
      "cell_type": "markdown",
      "id": "b6a0acec",
      "metadata": {
        "id": "b6a0acec"
      },
      "source": [
        "**Resposta:**"
      ]
    },
    {
      "cell_type": "markdown",
      "id": "ec3d5d0b",
      "metadata": {
        "id": "ec3d5d0b"
      },
      "source": [
        "<div class=\"alert alert-danger\"> <strong>&#x1F4DD; Atividade 4:</strong> <br>\n",
        "\n",
        "Um carro percorre um trecho retilíneo ao longo de uma estrada. Sua distância a um sinal de parada é uma função do tempo dado por $x(t)=\\alpha t^2 - \\beta t^3$, onde $\\alpha$ $=$ 1.5 m/$s^2$ e $\\beta$ $=$ 0.0500 m/$s^3$. Desenvolva um código para calcular a velocidade média do carro para os seguintes intervalos de tempo:\n",
        "\n",
        "(a) $t$ = 0 até $t$ = 2 s.\n",
        "\n",
        "(b) $t$ = 0 até $t$ = 4 s.\n",
        "\n",
        "(c) $t$ = 2 até $t$ = 4 s.\n",
        "\n",
        "<strong>Atenção</strong>: o usuário deve entrar com o tempo final e inicial e obter como saída a velocidade média.</div>\n",
        "\n"
      ]
    },
    {
      "cell_type": "code",
      "execution_count": 39,
      "id": "0995b404",
      "metadata": {
        "colab": {
          "base_uri": "https://localhost:8080/"
        },
        "id": "0995b404",
        "outputId": "9ed04aca-b1a3-4655-b6a2-c509ee031357"
      },
      "outputs": [
        {
          "output_type": "stream",
          "name": "stdout",
          "text": [
            "Digite o tempo inicial (s): 0\n",
            "Digite o tempo final (s): 2\n",
            "A velocidade média entre t = 0.0s e t = 2.0s é 2.80 m/s\n"
          ]
        }
      ],
      "source": [
        "#Coloque seu código aqui\n",
        "def posicao(t, alpha=1.5, beta=0.0500):\n",
        "    return alpha * (t ** 2) - beta * (t ** 3)\n",
        "\n",
        "def velocidade_media(t_inicial, t_final):\n",
        "    if t_final <= t_inicial:\n",
        "        return \"O tempo final deve ser maior que o tempo inicial.\"\n",
        "\n",
        "    x_i = posicao(t_inicial)\n",
        "    x_f = posicao(t_final)\n",
        "\n",
        "    v_m = (x_f - x_i) / (t_final - t_inicial)  # Fórmula da velocidade média\n",
        "\n",
        "    return f\"A velocidade média entre t = {t_inicial}s e t = {t_final}s é {v_m:.2f} m/s\"\n",
        "\n",
        "# Entrada do usuário\n",
        "t_inicial = float(input(\"Digite o tempo inicial (s): \"))\n",
        "t_final = float(input(\"Digite o tempo final (s): \"))\n",
        "\n",
        "# Cálculo e exibição da velocidade média\n",
        "resultado = velocidade_media(t_inicial, t_final)\n",
        "print(resultado)\n"
      ]
    },
    {
      "cell_type": "markdown",
      "id": "34e986d9",
      "metadata": {
        "id": "34e986d9"
      },
      "source": [
        "<div class=\"alert alert-danger\"> <strong>&#x1F4DD; Atividade 5:</strong> <br>\n",
        "    \n",
        "Em um teste de um novo modelo de automóvel da empresa Motores Incríveis, o velocímetro é calibrado para ler m/s em vez de km/h. A série de medidas a seguir foi registrada durante o teste ao longo de uma estrada retilínea muito longa:\n",
        "\n",
        "| tempo (s) | velocidade (m/s) |\n",
        "|:---:|:---:|\n",
        "|0|0|\n",
        "|2|0|\n",
        "|4|2|\n",
        "|6|6|\n",
        "|8|10|\n",
        "|10|16|\n",
        "|12|19|\n",
        "|14|22|\n",
        "|16|22|\n",
        "\n",
        "(a) Desenvolva um código para plotar o gráfico da velocidade em função do tempo. O gráfico deve conter um título e a nomenclatura dos eixos $x$ e$y$.\n",
        "    \n",
        "(b) Desenvolva um código para calcular a aceleração média durante cada intervalo de de 2.0 s. Lembre-se que o usuário deve ler os valores das acelerações.\n",
        "    \n",
        "(c) Desenvolva um código para calcular a aceleração média entre os instantes $t$ = 4 s e $t$ = 12 s.\n",
        "    \n",
        "    \n",
        "</div>\n",
        "    \n",
        "    "
      ]
    },
    {
      "cell_type": "code",
      "execution_count": 41,
      "id": "23a14742",
      "metadata": {
        "colab": {
          "base_uri": "https://localhost:8080/",
          "height": 478
        },
        "id": "23a14742",
        "outputId": "f5308b1d-3175-4c7b-a804-e58586261dfc"
      },
      "outputs": [
        {
          "output_type": "display_data",
          "data": {
            "text/plain": [
              "<Figure size 200x200 with 1 Axes>"
            ],
            "image/png": "[encoded data removed]"
          },
          "metadata": {}
        },
        {
          "output_type": "stream",
          "name": "stdout",
          "text": [
            "Aceleração média entre t=0s e t=2s: 0.00 m/s²\n",
            "Aceleração média entre t=2s e t=4s: 1.00 m/s²\n",
            "Aceleração média entre t=4s e t=6s: 2.00 m/s²\n",
            "Aceleração média entre t=6s e t=8s: 2.00 m/s²\n",
            "Aceleração média entre t=8s e t=10s: 3.00 m/s²\n",
            "Aceleração média entre t=10s e t=12s: 1.50 m/s²\n",
            "Aceleração média entre t=12s e t=14s: 1.50 m/s²\n",
            "Aceleração média entre t=14s e t=16s: 0.00 m/s²\n",
            "\n",
            "Aceleração média entre t=4s e t=12s: 2.12 m/s²\n"
          ]
        }
      ],
      "source": [
        "#Coloque seu código aqui\n",
        "tempo = [0, 2, 4, 6, 8, 10, 12, 14, 16]\n",
        "velocidade = [0, 0, 2, 6, 10, 16, 19, 22, 22]\n",
        "# A)\n",
        "plt.plot(tempo, velocidade, marker='o', linestyle='-')\n",
        "plt.xlabel(\"Tempo (s)\")\n",
        "plt.ylabel(\"Velocidade (m/s)\")\n",
        "plt.title(\"Velocidade em Função do Tempo\")\n",
        "plt.show()\n",
        "\n",
        "# B)\n",
        "aceleracoes = []\n",
        "for i in range(len(tempo) - 1):\n",
        "    delta_v = velocidade[i+1] - velocidade[i]\n",
        "    delta_t = tempo[i+1] - tempo[i]\n",
        "    aceleracao = delta_v / delta_t\n",
        "    aceleracoes.append(aceleracao)\n",
        "    print(f\"Aceleração média entre t={tempo[i]}s e t={tempo[i+1]}s: {aceleracao:.2f} m/s²\")\n",
        "\n",
        "# C)\n",
        "t_inicial = 4\n",
        "t_final = 12\n",
        "indice_inicial = tempo.index(t_inicial)\n",
        "indice_final = tempo.index(t_final)\n",
        "\n",
        "delta_v = velocidade[indice_final] - velocidade[indice_inicial]\n",
        "delta_t = t_final - t_inicial\n",
        "aceleracao = delta_v / delta_t\n",
        "print(f\"\\nAceleração média entre t={t_inicial}s e t={t_final}s: {aceleracao:.2f} m/s²\")"
      ]
    },
    {
      "cell_type": "markdown",
      "id": "92b0e3fa",
      "metadata": {
        "id": "92b0e3fa"
      },
      "source": [
        "<div class=\"alert alert-danger\"> <strong>&#x1F4DD; Atividade 6:</strong> <br>\n",
        "\n",
        "A posição de um objeto que se move ao longo de um eixo $x$ é dada por $x(t)$ = 3$t$ -4$t^2$ + $t^3$, em que $x$ está em metros e $t$ em segundos. Desenvolva um código para que:  \n",
        "\n",
        "(a) o usuário entre com o tempo em segundos e obtem como saída a posição naquele instante.\n",
        "    \n",
        "(b) o usuário obtenha o deslocamento do objeto e a velocidade média em qualquer intervalo de tempo dado.\n",
        "    \n",
        "</div>"
      ]
    },
    {
      "cell_type": "code",
      "execution_count": 42,
      "id": "8874de72",
      "metadata": {
        "colab": {
          "base_uri": "https://localhost:8080/"
        },
        "id": "8874de72",
        "outputId": "259fbea2-82f5-4d05-b307-eacb655b9cfa"
      },
      "outputs": [
        {
          "output_type": "stream",
          "name": "stdout",
          "text": [
            "Digite o tempo (s): 10\n",
            "A posição do objeto no instante t = 10.00s é x = 630.00 metros.\n",
            "Digite o tempo inicial (s): 1\n",
            "Digite o tempo final (s): 20\n",
            "Deslocamento: 6460.00 m\n",
            "Velocidade média: 340.00 m/s\n"
          ]
        }
      ],
      "source": [
        "#Coloque seu código aqui\n",
        "\n",
        "# a)\n",
        "def posicao(t):\n",
        "    return 3*t - 4*(t**2) + (t**3)\n",
        "\n",
        "# Entrada do usuário\n",
        "t = float(input(\"Digite o tempo (s): \"))\n",
        "\n",
        "# Cálculo da posição\n",
        "x_t = posicao(t)\n",
        "\n",
        "# Exibição do resultado\n",
        "print(f\"A posição do objeto no instante t = {t:.2f}s é x = {x_t:.2f} metros.\")\n",
        "\n",
        "\n",
        "# b)\n",
        "def calcular_deslocamento_e_velocidade_media(t_inicial, t_final):\n",
        "    \"\"\"Calcula o deslocamento e a velocidade média no intervalo dado\"\"\"\n",
        "    if t_final <= t_inicial:\n",
        "        return \"O tempo final deve ser maior que o tempo inicial.\"\n",
        "\n",
        "    x_i = posicao(t_inicial)  # Posição inicial\n",
        "    x_f = posicao(t_final)    # Posição final\n",
        "\n",
        "    deslocamento = x_f - x_i  # Cálculo do deslocamento\n",
        "    velocidade_media = deslocamento / (t_final - t_inicial)  # Cálculo da velocidade média\n",
        "\n",
        "    return f\"Deslocamento: {deslocamento:.2f} m\\nVelocidade média: {velocidade_media:.2f} m/s\"\n",
        "\n",
        "# Entrada do usuário\n",
        "t_inicial = float(input(\"Digite o tempo inicial (s): \"))\n",
        "t_final = float(input(\"Digite o tempo final (s): \"))\n",
        "\n",
        "# Cálculo e exibição dos resultados\n",
        "resultado = calcular_deslocamento_e_velocidade_media(t_inicial, t_final)\n",
        "print(resultado)\n"
      ]
    },
    {
      "cell_type": "markdown",
      "id": "49e53e3b",
      "metadata": {
        "id": "49e53e3b"
      },
      "source": [
        "<div class=\"alert alert-warning\"><strong>Questão:</strong> Qual a velocidade média para uma viagem de ida-e-volta de um objeto lançado verticalmente para cima, a partir do solo, que cai retornado ao solo?</div>\n",
        "\n",
        "A velocidade é 0"
      ]
    },
    {
      "cell_type": "markdown",
      "id": "7ce9c33a",
      "metadata": {
        "id": "7ce9c33a"
      },
      "source": [
        "**Resposta:**"
      ]
    },
    {
      "cell_type": "markdown",
      "id": "429c0062",
      "metadata": {
        "id": "429c0062"
      },
      "source": [
        "<div class=\"alert alert-warning\"><strong>Questão:</strong> Se a velocidade média de um objeto é zero em algum intervalo de tempo, o que você pode dizer sobre o deslocamento do objeto para esse intervalo?.</div>\n",
        "\n",
        "O deslocamento será 0"
      ]
    },
    {
      "cell_type": "markdown",
      "id": "224145a5",
      "metadata": {
        "id": "224145a5"
      },
      "source": [
        "**Resposta:**"
      ]
    }
  ],
  "metadata": {
    "kernelspec": {
      "display_name": "Python 3",
      "language": "python",
      "name": "python3"
    },
    "language_info": {
      "codemirror_mode": {
        "name": "ipython",
        "version": 3
      },
      "file_extension": ".py",
      "mimetype": "text/x-python",
      "name": "python",
      "nbconvert_exporter": "python",
      "pygments_lexer": "ipython3",
      "version": "3.13.0"
    },
    "colab": {
      "provenance": []
    }
  },
  "nbformat": 4,
  "nbformat_minor": 5
}