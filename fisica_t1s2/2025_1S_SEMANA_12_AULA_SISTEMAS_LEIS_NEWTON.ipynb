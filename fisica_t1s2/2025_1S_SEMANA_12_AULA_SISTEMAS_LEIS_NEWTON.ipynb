{
  "cells": [
    {
      "cell_type": "markdown",
      "id": "a0f9fc65",
      "metadata": {
        "id": "a0f9fc65"
      },
      "source": [
        "<img src= \"https://maua.br/images/logo-IMT.png\" width=250>"
      ]
    },
    {
      "cell_type": "markdown",
      "id": "cf4b175c",
      "metadata": {
        "id": "cf4b175c"
      },
      "source": [
        "#  <center> <font color=#023e8a>  **CIC202: Física e Modelagem Computacional**  <center>\n",
        " <center> Prof. Sandro Martini <center>"
      ]
    },
    {
      "cell_type": "markdown",
      "id": "89f58705",
      "metadata": {
        "id": "89f58705"
      },
      "source": [
        "## <center>  Semana 12: Modelagem e Simulação de Sistemas Mecânicos - Aplicações das Leis de Newton"
      ]
    },
    {
      "cell_type": "markdown",
      "id": "401c1d27",
      "metadata": {
        "id": "401c1d27"
      },
      "source": [
        "### Nome: Arthur Silva"
      ]
    },
    {
      "cell_type": "markdown",
      "id": "02fd0026",
      "metadata": {
        "id": "02fd0026"
      },
      "source": [
        "### Instruções iniciais:\n",
        "\n",
        "1. Coloque todos os arquivos que você baixou num mesmo diretório;\n",
        "2. **Leia TODO o notebook** e realize as tarefas indicadas;\n",
        "3. Quando tiver terminado, envie esse próprio arquivo com as atividades realizadas.\n",
        "4. O laboratório é um momento de independência para que você possa aprender de forma autônoma. Por isso leia atentamente as instruções, discuta com os colegas os exercícios, os códigos e as soluções.\n",
        "   \n",
        "\n"
      ]
    },
    {
      "cell_type": "markdown",
      "id": "3d41bd72",
      "metadata": {
        "id": "3d41bd72"
      },
      "source": [
        "### Objetivos:"
      ]
    },
    {
      "cell_type": "markdown",
      "id": "260af190",
      "metadata": {
        "id": "260af190"
      },
      "source": [
        "-  Modelar analiticamente sistemas mecânicos aplicando as Leis de Newton.\n",
        "-  Implementar computacionalmente os modelos analíticos.\n",
        "-  Simular diferentes parâmetros do modelo e verificar a resposta do sistema.   "
      ]
    },
    {
      "cell_type": "markdown",
      "id": "96c45d41",
      "metadata": {
        "id": "96c45d41"
      },
      "source": [
        "### Leis de Newton"
      ]
    },
    {
      "cell_type": "markdown",
      "id": "76d576f3",
      "metadata": {
        "id": "76d576f3"
      },
      "source": [
        "As equações de Newton são utilizadas para descrever o estado dinâmico de partículas e corpos rígidos através de um equilíbrio entre as forças e torques que atuam sobre eles, sendo que cada corpo ou partícula é analisado individualmente.\n",
        "\n",
        "**Primeira Lei de Newton**: um corpo está em equilíbrio estático quando a resultante das forças que atuam sobre ele é nula, ou em movimento retilíneo uniforme quando a resultante das forças que atuam sobre ele é nula. Em outras palavras, se a soma vetorial das forças que atuam sobre um corpo é igual a zero, então ele permanece em repouso ou em movimento retilíneo uniforme com velocidade constante.  \n",
        "\n",
        "$$\\sum \\vec{F} = 0$$\n",
        "\n",
        "\n",
        "Essa lei é também conhecida como **Princípio da Inércia**.  \n",
        "\n",
        "**Segunda Lei de Newton**: a força resultante que atua sobre um corpo é diretamente proporcional à sua massa e à sua aceleração resultante. Matematicamente, a lei pode ser escrita como:\n",
        "\n",
        "$$\\sum \\vec{F} = m\\vec{a}$$,\n",
        "\n",
        "sendo $m$ é a massa do corpo e $a$ é a sua aceleração resultante. Isso significa que, se uma força resultante agir sobre um corpo, ele irá acelerar na direção da força aplicada, e a magnitude da aceleração será diretamente proporcional à força resultante e inversamente proporcional à massa do corpo. Essa lei é fundamental para o estudo da dinâmica dos corpos em movimento e permite calcular a força resultante necessária para produzir uma dada aceleração em um corpo de massa conhecida.\n",
        "\n",
        "**Terceira Lei de Newton**: quando um corpo exerce uma força sobre outro corpo, este último exerce uma força de igual magnitude, mas em direção oposta, sobre o primeiro corpo. Matematicamente, a lei pode ser escrita como:\n",
        "\n",
        "\n",
        "$$\\vec{F_1} = -\\vec{F_2}$$,\n",
        "\n",
        "\n",
        "onde $\\vec{F_1}$ é a força exercida pelo primeiro corpo sobre o segundo, e $\\vec{F_2}$ é a força exercida pelo segundo corpo sobre o primeiro. Essa lei é fundamental para o estudo das interações entre corpos e explica muitos fenômenos observados na natureza, como o movimento de foguetes, a propulsão de navios e aviões, entre outros. Além disso, a terceira lei de Newton é uma das leis mais conhecidas e populares da física, sendo frequentemente citada em várias áreas do conhecimento."
      ]
    },
    {
      "cell_type": "markdown",
      "id": "a76feb5a",
      "metadata": {
        "id": "a76feb5a"
      },
      "source": [
        "### Sistema Mecânico - Modelo Analítico"
      ]
    },
    {
      "cell_type": "markdown",
      "id": "e12c40e2",
      "metadata": {
        "id": "e12c40e2"
      },
      "source": [
        "A figura abaixo mostra um simples sistema mecânico escolhido para a modelagem analítica. Ele é constituído por um corpo denominado de **1**, cuja massa é $m_1$ e por um corpo denominado por **2**, cuja massa é $m_2$. O corpo 1 está sobre um plano inclinado de $\\theta$ graus. Os corpos **1** e  **2** estão ligados por uma corda inextensível e de massa desprezível que passa por uma polia ideal."
      ]
    },
    {
      "cell_type": "markdown",
      "id": "c4d4506d",
      "metadata": {
        "id": "c4d4506d"
      },
      "source": [
        "<img src= \"2024_1S_SEMANA_06_AULA_SISTEMAS_LEIS_NEWTON_FIG_01.jpg\" width=350>"
      ]
    },
    {
      "cell_type": "markdown",
      "id": "fcf25f8d",
      "metadata": {
        "id": "fcf25f8d"
      },
      "source": [
        "A aceleração do sistema mecânico pode ser obtida analiticamente aplicando a segunda Lei de Newton:\n",
        "\n",
        "$$a = \\frac{g(m_2 -m_1sen(\\theta))}{(m_1 + m_2)}$$"
      ]
    },
    {
      "cell_type": "markdown",
      "id": "4ebc93c2",
      "metadata": {
        "id": "4ebc93c2"
      },
      "source": [
        "### Sistema Mecânico - Modelo Computacional"
      ]
    },
    {
      "cell_type": "markdown",
      "id": "c9a744ef",
      "metadata": {
        "id": "c9a744ef"
      },
      "source": [
        "<div class= \"alert alert-info\">  \n",
        "\n",
        "A célula a seguir mostra um código que modela <b>computacionalmente</b> a aceleração. As entradas são as massas  $m_1$ e $m_2$ em quilograma (kg) e o angulo $\\theta$ em graus.\n",
        "    \n",
        "</div>"
      ]
    },
    {
      "cell_type": "code",
      "execution_count": 1,
      "id": "6f14822f",
      "metadata": {
        "colab": {
          "base_uri": "https://localhost:8080/"
        },
        "id": "6f14822f",
        "outputId": "8b06fdf7-e93b-4a8c-aa4a-67777cf74f74"
      },
      "outputs": [
        {
          "output_type": "stream",
          "name": "stdout",
          "text": [
            "Entre com a massa m₁ em kg: 65\n",
            "Entre com a massa m₂ em kg: 55\n",
            "Entre com o ângulo θ em graus (entre 0 e 90): 30\n",
            "A aceleração em m/s² é: 1.8375000000000008\n"
          ]
        }
      ],
      "source": [
        "#Modelo Computacional\n",
        "\n",
        "import matplotlib.pyplot as plt\n",
        "import numpy as np\n",
        "\n",
        "#Defindo a aceleração como uma função.\n",
        "\n",
        "def acel(m1,m2,theta):\n",
        "    g = 9.8\n",
        "    a = g*(m2-m1*np.sin(theta))/(m1+m2)\n",
        "    return a\n",
        "\n",
        "#As entradas são as massas m1, m2 e o angulo theta.\n",
        "\n",
        "m1 = float(input('Entre com a massa m\\u2081 em kg: '))\n",
        "m2 = float(input('Entre com a massa m\\u2082 em kg: '))\n",
        "thetaIN = float(input('Entre com o ângulo \\u03b8 em graus (entre 0 e 90): '))\n",
        "\n",
        "\n",
        "#OBS:\n",
        "#O caractere (Unicode) \"\\u2081\" é usado para representar o subscrito do número 1.\n",
        "#O caractere (Unicode) \"\\u2082\" é usado para representar o subscrito do número 2.\n",
        "#O caractere (Unicode) \"\\u03b8\" é usado para representar o angulo theta.\n",
        "\n",
        "#Converte theta de graus para radianos\n",
        "\n",
        "theta = (thetaIN*np.pi)/180\n",
        "\n",
        "a = acel(m1,m2,theta)\n",
        "\n",
        "print('A aceleração em m/s\\u00B2 é:', a)\n",
        "\n",
        "#OBS:\n",
        "#O caractere \"\\u00B2\" é usado para representar o sobrescrito do número 2."
      ]
    },
    {
      "cell_type": "markdown",
      "id": "dd413b35",
      "metadata": {
        "id": "dd413b35"
      },
      "source": [
        "### Sistema Mecânico - Simulação Computacional"
      ]
    },
    {
      "cell_type": "markdown",
      "id": "6aa1b4d0",
      "metadata": {
        "id": "6aa1b4d0"
      },
      "source": [
        "Existem algumas situações que desejamos simular um sistema físico a partir de um modelo. Por exemplo, como a aceleração do sistema mecânico descrito anteriormente se comporta para diferentes valores de massas e ângulos de inclinação? Com o Python podemos utilizar os`ipywidgets`para as explorar modelos e simulações de forma mais fácil e intuitiva."
      ]
    },
    {
      "cell_type": "markdown",
      "id": "588e4b6b",
      "metadata": {
        "id": "588e4b6b"
      },
      "source": [
        "#### IPyWidgets"
      ]
    },
    {
      "cell_type": "markdown",
      "id": "495c77ea",
      "metadata": {
        "id": "495c77ea"
      },
      "source": [
        "Ipywidgets são widgets interativos para notebooks Jupyter (ou JupyterLab), que permitem criar interfaces gráficas de usuário (GUIs) em notebooks Python. Com os `ipywidgets` é possível criar interfaces interativas para manipulação de dados, visualização de gráficos, seleção de parâmetros para análise de dados, entre outras funcionalidades. Algumas observações sobre os `ipywidgets`:\n",
        "\n",
        "1. São fáceis de instalar e usar, permitindo que os usuários criem interfaces gráficas em poucas linhas de código.  \n",
        "\n",
        "2. Permitem que os usuários interajam com o código em tempo real, permitindo a exploração interativa de dados.\n",
        "\n",
        "3. Podem ser personalizados para atender às necessidades específicas de cada código, incluindo a criação de novos widgets.\n",
        "\n",
        "Para saber mais sobre os `ipywidgets`consulte [Jupyter Widgets](https://ipywidgets.readthedocs.io/en/stable/).\n"
      ]
    },
    {
      "cell_type": "markdown",
      "id": "aec04deb",
      "metadata": {
        "id": "aec04deb"
      },
      "source": [
        "<div class= \"alert alert-info\">  \n",
        "    \n",
        "O código na célula abaixo mostra um exemplo da utilização dos `ipywidgets`. Podemos agora simular, a partir do modelo computracional anterior, como a aceleração do sistema se comporta para diferentes valores de massas e ângulos. Note que para usar os `ipywidgets`, você precisa das seguintes linhas de código:\n",
        "    \n",
        "    \n",
        "`import ipywidgets as widgets`  \n",
        "    \n",
        "    \n",
        "`from ipywidgets import interactive`  \n",
        "\n",
        "    \n",
        "    \n",
        "Note a ultima linha do código: `interactive(plot, m1=(0,10, 0.5), m2=(0,10,0.5))`\n",
        "\n",
        "A função `interactive` tem dois argumentos: o primeiro é a função `plot`, que é a função que será chamada e atualizada sempre que um dos parâmetros da interface gráfica for alterado; e o segundo são os parâmetros da interface gráfica em si, que são criados usando os widgets `FloatSlider` da biblioteca `ipywidgets`. Os parâmetros da interface gráfica são definidos usando o formato: `(nome, valor mínimo, valor máximo, incremento)`. No exemplo abaixo, a interface gráfica tem dois parâmetros, $m_1$ e $m_2$, cada um representado por um `FloatSlider` que varia de 0 a 10 em incrementos de 0,5. Esses parâmetros podem ser ajustados interativamente para modificar a saída da função `plot`.\n",
        "\n",
        "    \n",
        "</div>"
      ]
    },
    {
      "cell_type": "markdown",
      "id": "7935d9f5",
      "metadata": {
        "id": "7935d9f5"
      },
      "source": [
        "<div class= \"alert alert-info\">\n",
        "    \n",
        "No código fornecido, `np.linspace(0, 90, num=91)` é usado para gerar uma sequência de 91 valores igualmente espaçados de 0 a 90 graus. A sequência é usada para gerar os valores de `theta` para a função `plot` e é convertida em radianos usando a expressão `theta*(np.pi/180)` antes de ser passada para a função acel.\n",
        "\n",
        "</div>"
      ]
    },
    {
      "cell_type": "code",
      "execution_count": 1,
      "id": "c1c12c1a",
      "metadata": {
        "colab": {
          "base_uri": "https://localhost:8080/",
          "height": 539,
          "referenced_widgets": [
            "cbc56d34ef284ac49676a534c5026c11",
            "6f7909664c254a37b67962e3c6568411",
            "ef40c4f1ab964c4dae4f1150e4886fc7",
            "2062ade8ab844fbd9f2015a43e08c71e",
            "4b894d3ba5644245a589b70a26396515",
            "a5f1cd31ab1c4ec484f6570bd34a4823",
            "b57ade4c4ba645f596756a3daf4991cf",
            "4cfa8fe194a64c55bbe4c2eba71f5b88",
            "4348f5d28d9c4fca9ca5999e1e40471d",
            "87bd2d835a7e4a84bd5f361b87b26740"
          ]
        },
        "id": "c1c12c1a",
        "outputId": "d40fff9c-86cb-4d1e-cd5d-153fdd89c366"
      },
      "outputs": [
        {
          "output_type": "display_data",
          "data": {
            "text/plain": [
              "interactive(children=(FloatSlider(value=5.0, description='m1', max=10.0, step=0.5), FloatSlider(value=5.0, des…"
            ],
            "application/vnd.jupyter.widget-view+json": {
              "version_major": 2,
              "version_minor": 0,
              "model_id": "cbc56d34ef284ac49676a534c5026c11"
            }
          },
          "metadata": {}
        }
      ],
      "source": [
        "import matplotlib.pyplot as plt\n",
        "import numpy as np\n",
        "import ipywidgets as widgets\n",
        "from ipywidgets import interactive\n",
        "\n",
        "def acel(m1,m2,theta):\n",
        "    g = 9.8\n",
        "    a = g*(m2-m1*np.sin(theta))/(m1+m2)\n",
        "    return a\n",
        "\n",
        "\n",
        "def plot(m1,m2):\n",
        "    theta = np.linspace(0, 90, num=91)\n",
        "    a = acel(m1,m2,theta*(np.pi/180))\n",
        "    plt.plot(theta,a)\n",
        "    plt.xlabel('Ângulo (graus)')\n",
        "    plt.ylabel('Aceleração (m/s$^2$)')\n",
        "    plt.ylim(-15,15)\n",
        "    plt.title('Aceleração em função do ângulo')\n",
        "    plt.grid()\n",
        "    plt.show()\n",
        "\n",
        "interactive(plot, m1=(0,10, 0.5), m2=(0,10,0.5))"
      ]
    },
    {
      "cell_type": "markdown",
      "id": "0ec29ba5",
      "metadata": {
        "id": "0ec29ba5"
      },
      "source": [
        "<div class=\"alert alert-warning\"><strong>Questão:</strong> Simule a situação em que as duas massas são zero. Aparecerá uma mensagem de warning. O que ela significa em termos computacionais? E fisicamente?  </div>"
      ]
    },
    {
      "cell_type": "markdown",
      "id": "4dce4b29",
      "metadata": {
        "id": "4dce4b29"
      },
      "source": [
        "**Resposta**: Em termos computacionais, significa que os valores encontrados são inválidos. Fisicamente, significa que a aceleração é equivalente a 0"
      ]
    },
    {
      "cell_type": "markdown",
      "id": "3cb96a1a",
      "metadata": {
        "id": "3cb96a1a"
      },
      "source": [
        "<div class=\"alert alert-warning\"><strong>Questão:</strong> Simule a situação em que a massa $m_1$ é zero e $m_2$ pode assumir qualquer valor diferente de zero (deslize a barra). Qual o comportamento da aceleração?  Fisicamente o que está acontecendo com o sistema mecânico?  </div>"
      ]
    },
    {
      "cell_type": "markdown",
      "id": "f9e7c4f1",
      "metadata": {
        "id": "f9e7c4f1"
      },
      "source": [
        "**Resposta**:A aceleração se mantem constante, ou seja, não ocorrem variações na aceleração. O sistema está em movimento uniformemente variado"
      ]
    },
    {
      "cell_type": "markdown",
      "id": "7deb1e9a",
      "metadata": {
        "id": "7deb1e9a"
      },
      "source": [
        "<div class=\"alert alert-warning\"><strong>Questão:</strong> Agora simule a situação inversa, ou seja, a massa $m_2$ é zero e $m_1$ pode assumir qualquer valor diferente de zero (deslize a barra). Qual o comportamento da aceleração? Por que a aceleração está negativa e o que isso significa? Fisicamente o que está acontecendo com a aceleração do sistema mecânico em função do angulo de inclinação?  </div>"
      ]
    },
    {
      "cell_type": "markdown",
      "id": "344e9677",
      "metadata": {
        "id": "344e9677"
      },
      "source": [
        "**Resposta**:  A aceleração é negativa (em direção contrária à de m2). Isso significa que m1 está \"descendo\" o plano inclinado. Fisicamente, m2 não exerce nenhuma força (pois sua massa é zero), então o corpo m1 tende a deslizar para baixo, puxando a corda."
      ]
    },
    {
      "cell_type": "markdown",
      "id": "9c23c5f6",
      "metadata": {
        "id": "9c23c5f6"
      },
      "source": [
        "<div class=\"alert alert-warning\"><strong>Questão:</strong> Agora simule a situação em que as duas massas $m_1$ e $m_2$ sejam iguais a 5 kg. Qual o comportamento da aceleração? O que acontece com a aceleração do sistema mecânico em função do angulo de inclinação? À medida que o ângulo se aproxima de 90 graus, a aceleração tende a que valor? Explique o que está acontecendo com o sistema a medida que o ângulo de aproxima de 90 graus. </div>"
      ]
    },
    {
      "cell_type": "markdown",
      "id": "eb111a2d",
      "metadata": {
        "id": "eb111a2d"
      },
      "source": [
        "**Resposta**: Quando o ângulo é pequeno, a componente do peso de m1 ao longo do plano é menor, então a força resultante é quase nula, ou seja, aceleração pequena."
      ]
    },
    {
      "cell_type": "markdown",
      "id": "9cdeb5e0",
      "metadata": {
        "id": "9cdeb5e0"
      },
      "source": [
        "<div class= \"alert alert-info\">   \n",
        "\n",
        "Considere o seguinte sistema mecânico\n",
        "    \n",
        "<img src= \"2024_1S_SEMANA_06_AULA_SISTEMAS_LEIS_NEWTON_FIG_02.jpg\" width=350>\n",
        "\n",
        "cuja aceleração do sistema é dado por:\n",
        "    \n",
        "$$a = \\frac{g[m_2sen(\\theta_2)-m_1sen(\\theta_1)]}{(m_1 + m_2)}$$\n",
        "    \n",
        "</div>"
      ]
    },
    {
      "cell_type": "markdown",
      "id": "8a16047f",
      "metadata": {
        "id": "8a16047f"
      },
      "source": [
        "<div class=\"alert alert-warning\"><strong>Questão:</strong> Qual a relação existente entre os angulos $\\theta_1$ e $\\theta_2$?  </div>"
      ]
    },
    {
      "cell_type": "markdown",
      "id": "f824f64d",
      "metadata": {
        "id": "f824f64d"
      },
      "source": [
        "**Resposta**:"
      ]
    },
    {
      "cell_type": "markdown",
      "id": "165d07a5",
      "metadata": {
        "id": "165d07a5"
      },
      "source": [
        "<div class=\"alert alert-danger\"> <strong> &#x1F4DD; Atividade 1:</strong>  \n",
        "\n",
        "Agora você vai desenvolver um código para modelar e simular o comportamento da aceleração desse sistema mecânico. O código deve ser desenvolvido considerando dois aspectos:  \n",
        "    \n",
        "1. O usuário deve poder entrar com os valores das massas em kg e os ângulos em graus, e obter a aceleração do sistema.\n",
        "    \n",
        "2. O usuário pode alterar as massas $m_1$ e $m_2$ e <strong>simular</strong>  o comportamento da aceleração em função do angulo $\\theta_1$. Você </strong> deverá</strong>  usar os `ipywidgets` para realizar as simulações.\n",
        "    \n",
        "</div>"
      ]
    },
    {
      "cell_type": "code",
      "execution_count": 2,
      "id": "3c69881d",
      "metadata": {
        "colab": {
          "base_uri": "https://localhost:8080/",
          "height": 586,
          "referenced_widgets": [
            "e0927840bb7f47f783dbd1daae658d7f",
            "1d57ec79ebf44eca864704165664dd2e",
            "c19a2e05a98d4a5d8eac8bdccfa3a194",
            "9d2e7c037a2c4fcd823bf4925734eaf6",
            "342fa87b89fb46dfadd9ff390a9e8d3d",
            "098df56eac0b4d5ba4ae39d0f15db1b0",
            "e9af0e73b3d1442a8f26b9dffa093024",
            "45d64d32fa234a5e84d6f9352b4608df",
            "07c56de9bf654c72b255e0f253bb958d",
            "f4ea077e94d041fbbf295cbcf509bd18",
            "92ad65985d404205964baead95cdb775",
            "885727f79ef640b5a31db92187c776d9",
            "6da29dd09a1e4f309259afe0acc0fd12"
          ]
        },
        "id": "3c69881d",
        "outputId": "5d69ccc9-e672-4022-f3e8-3581a3dd4203"
      },
      "outputs": [
        {
          "output_type": "display_data",
          "data": {
            "text/plain": [
              "interactive(children=(FloatSlider(value=5.0, description='m1', max=10.0, step=0.5), FloatSlider(value=5.0, des…"
            ],
            "application/vnd.jupyter.widget-view+json": {
              "version_major": 2,
              "version_minor": 0,
              "model_id": "e0927840bb7f47f783dbd1daae658d7f"
            }
          },
          "metadata": {}
        }
      ],
      "source": [
        "import matplotlib.pyplot as plt\n",
        "import numpy as np\n",
        "import ipywidgets as widgets\n",
        "from ipywidgets import interactive\n",
        "\n",
        "# Função de aceleração do sistema com dois ângulos\n",
        "def acel_duplo(m1, m2, theta1, theta2):\n",
        "    g = 9.8\n",
        "    theta1_rad = np.radians(theta1)\n",
        "    theta2_rad = np.radians(theta2)\n",
        "    a = g * (m2 * np.sin(theta2_rad) - m1 * np.sin(theta1_rad)) / (m1 + m2)\n",
        "    return a\n",
        "\n",
        "# Função para plotar o comportamento da aceleração em função do ângulo θ1\n",
        "def plot_acel_theta1(m1, m2, theta2):\n",
        "    theta1_vals = np.linspace(0, 90, 100)\n",
        "    aceleracoes = [acel_duplo(m1, m2, theta1, theta2) for theta1 in theta1_vals]\n",
        "\n",
        "    plt.figure(figsize=(8,5))\n",
        "    plt.plot(theta1_vals, aceleracoes)\n",
        "    plt.xlabel('Ângulo θ1 (graus)')\n",
        "    plt.ylabel('Aceleração (m/s²)')\n",
        "    plt.title('Aceleração em função de θ1')\n",
        "    plt.grid(True)\n",
        "    plt.show()\n",
        "\n",
        "# Interface interativa\n",
        "interactive(plot_acel_theta1, m1=(0, 10, 0.5), m2=(0, 10, 0.5), theta2=(0, 90, 1))\n"
      ]
    },
    {
      "cell_type": "markdown",
      "id": "c44f5967",
      "metadata": {
        "id": "c44f5967"
      },
      "source": [
        "<div class= \"alert alert-info\">  \n",
        "  \n",
        "Com base no seu código realize as simulações indicadas e respondas as questões abaixo.\n",
        "    \n",
        "</div>"
      ]
    },
    {
      "cell_type": "markdown",
      "id": "fc63bb86",
      "metadata": {
        "id": "fc63bb86"
      },
      "source": [
        "<div class=\"alert alert-warning\"><strong>Questão:</strong> Quando a massa $m_1$ é zero e $m_2$ é diferente de zero, qual o comportamento da aceleração em função do ângulo $\\theta_1$? </div>"
      ]
    },
    {
      "cell_type": "markdown",
      "id": "8e803a74",
      "metadata": {
        "id": "8e803a74"
      },
      "source": [
        "**Resposta**:  A aceleração se torna constante e independe do valor de teta1. O gráfico da aceleração em função de θ1 será uma linha reta horizontal."
      ]
    },
    {
      "cell_type": "markdown",
      "id": "aeb3447a",
      "metadata": {
        "id": "aeb3447a"
      },
      "source": [
        "<div class=\"alert alert-warning\"><strong>Questão:</strong> Quando a massa $m_2$ é zero e $m_1$ é diferente de zero, qual o comportamento da aceleração em função do ângulo $\\theta_1$? Nessa situação por que variando a massa $m_1$ o comportamento da aceleração não muda? Explique.</div>"
      ]
    },
    {
      "cell_type": "markdown",
      "id": "bd7ca2e0",
      "metadata": {
        "id": "bd7ca2e0"
      },
      "source": [
        "**Resposta**: A aceleração varia negativamente com o seno de teta1, ou seja, quanto maior o ângulo teta1, maior será a aceleração negativa. Isso indica que o bloco 1 está acelerando \"para baixo\"."
      ]
    },
    {
      "cell_type": "markdown",
      "id": "2b0e63e8",
      "metadata": {
        "id": "2b0e63e8"
      },
      "source": [
        "<div class=\"alert alert-warning\"><strong>Questão:</strong> Quando as duas massas $m_2$ e $m_1$ são iguais a 5 kg, qual o comportamento da aceleração em função do ângulo $\\theta_1$? Explique o comportamento do movimento dos blocos nessa situação. </div>"
      ]
    },
    {
      "cell_type": "markdown",
      "id": "e261a564",
      "metadata": {
        "id": "e261a564"
      },
      "source": [
        "**Resposta**: a aceleração varia linearmente com sin(theta1), e o gráfico será decrescente, começando com aceleração positiva e indo até valores negativos conforme θ1 se aproxima de 90°"
      ]
    }
  ],
  "metadata": {
    "kernelspec": {
      "display_name": "Python 3 (ipykernel)",
      "language": "python",
      "name": "python3"
    },
    "language_info": {
      "codemirror_mode": {
        "name": "ipython",
        "version": 3
      },
      "file_extension": ".py",
      "mimetype": "text/x-python",
      "name": "python",
      "nbconvert_exporter": "python",
      "pygments_lexer": "ipython3",
      "version": "3.13.2"
    },
    "colab": {
      "provenance": []
    },
    "widgets": {
      "application/vnd.jupyter.widget-state+json": {
        "cbc56d34ef284ac49676a534c5026c11": {
          "model_module": "@jupyter-widgets/controls",
          "model_name": "VBoxModel",
          "model_module_version": "1.5.0",
          "state": {
            "_dom_classes": [
              "widget-interact"
            ],
            "_model_module": "@jupyter-widgets/controls",
            "_model_module_version": "1.5.0",
            "_model_name": "VBoxModel",
            "_view_count": null,
            "_view_module": "@jupyter-widgets/controls",
            "_view_module_version": "1.5.0",
            "_view_name": "VBoxView",
            "box_style": "",
            "children": [
              "IPY_MODEL_6f7909664c254a37b67962e3c6568411",
              "IPY_MODEL_ef40c4f1ab964c4dae4f1150e4886fc7",
              "IPY_MODEL_2062ade8ab844fbd9f2015a43e08c71e"
            ],
            "layout": "IPY_MODEL_4b894d3ba5644245a589b70a26396515"
          }
        },
        "6f7909664c254a37b67962e3c6568411": {
          "model_module": "@jupyter-widgets/controls",
          "model_name": "FloatSliderModel",
          "model_module_version": "1.5.0",
          "state": {
            "_dom_classes": [],
            "_model_module": "@jupyter-widgets/controls",
            "_model_module_version": "1.5.0",
            "_model_name": "FloatSliderModel",
            "_view_count": null,
            "_view_module": "@jupyter-widgets/controls",
            "_view_module_version": "1.5.0",
            "_view_name": "FloatSliderView",
            "continuous_update": true,
            "description": "m1",
            "description_tooltip": null,
            "disabled": false,
            "layout": "IPY_MODEL_a5f1cd31ab1c4ec484f6570bd34a4823",
            "max": 10,
            "min": 0,
            "orientation": "horizontal",
            "readout": true,
            "readout_format": ".2f",
            "step": 0.5,
            "style": "IPY_MODEL_b57ade4c4ba645f596756a3daf4991cf",
            "value": 0
          }
        },
        "ef40c4f1ab964c4dae4f1150e4886fc7": {
          "model_module": "@jupyter-widgets/controls",
          "model_name": "FloatSliderModel",
          "model_module_version": "1.5.0",
          "state": {
            "_dom_classes": [],
            "_model_module": "@jupyter-widgets/controls",
            "_model_module_version": "1.5.0",
            "_model_name": "FloatSliderModel",
            "_view_count": null,
            "_view_module": "@jupyter-widgets/controls",
            "_view_module_version": "1.5.0",
            "_view_name": "FloatSliderView",
            "continuous_update": true,
            "description": "m2",
            "description_tooltip": null,
            "disabled": false,
            "layout": "IPY_MODEL_4cfa8fe194a64c55bbe4c2eba71f5b88",
            "max": 10,
            "min": 0,
            "orientation": "horizontal",
            "readout": true,
            "readout_format": ".2f",
            "step": 0.5,
            "style": "IPY_MODEL_4348f5d28d9c4fca9ca5999e1e40471d",
            "value": 3
          }
        },
        "2062ade8ab844fbd9f2015a43e08c71e": {
          "model_module": "@jupyter-widgets/output",
          "model_name": "OutputModel",
          "model_module_version": "1.0.0",
          "state": {
            "_dom_classes": [],
            "_model_module": "@jupyter-widgets/output",
            "_model_module_version": "1.0.0",
            "_model_name": "OutputModel",
            "_view_count": null,
            "_view_module": "@jupyter-widgets/output",
            "_view_module_version": "1.0.0",
            "_view_name": "OutputView",
            "layout": "IPY_MODEL_87bd2d835a7e4a84bd5f361b87b26740",
            "msg_id": "",
            "outputs": [
              {
                "output_type": "display_data",
                "data": {
                  "text/plain": "<Figure size 640x480 with 1 Axes>",
                  "image/png": "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\n"
                },
                "metadata": {}
              }
            ]
          }
        },
        "4b894d3ba5644245a589b70a26396515": {
          "model_module": "@jupyter-widgets/base",
          "model_name": "LayoutModel",
          "model_module_version": "1.2.0",
          "state": {
            "_model_module": "@jupyter-widgets/base",
            "_model_module_version": "1.2.0",
            "_model_name": "LayoutModel",
            "_view_count": null,
            "_view_module": "@jupyter-widgets/base",
            "_view_module_version": "1.2.0",
            "_view_name": "LayoutView",
            "align_content": null,
            "align_items": null,
            "align_self": null,
            "border": null,
            "bottom": null,
            "display": null,
            "flex": null,
            "flex_flow": null,
            "grid_area": null,
            "grid_auto_columns": null,
            "grid_auto_flow": null,
            "grid_auto_rows": null,
            "grid_column": null,
            "grid_gap": null,
            "grid_row": null,
            "grid_template_areas": null,
            "grid_template_columns": null,
            "grid_template_rows": null,
            "height": null,
            "justify_content": null,
            "justify_items": null,
            "left": null,
            "margin": null,
            "max_height": null,
            "max_width": null,
            "min_height": null,
            "min_width": null,
            "object_fit": null,
            "object_position": null,
            "order": null,
            "overflow": null,
            "overflow_x": null,
            "overflow_y": null,
            "padding": null,
            "right": null,
            "top": null,
            "visibility": null,
            "width": null
          }
        },
        "a5f1cd31ab1c4ec484f6570bd34a4823": {
          "model_module": "@jupyter-widgets/base",
          "model_name": "LayoutModel",
          "model_module_version": "1.2.0",
          "state": {
            "_model_module": "@jupyter-widgets/base",
            "_model_module_version": "1.2.0",
            "_model_name": "LayoutModel",
            "_view_count": null,
            "_view_module": "@jupyter-widgets/base",
            "_view_module_version": "1.2.0",
            "_view_name": "LayoutView",
            "align_content": null,
            "align_items": null,
            "align_self": null,
            "border": null,
            "bottom": null,
            "display": null,
            "flex": null,
            "flex_flow": null,
            "grid_area": null,
            "grid_auto_columns": null,
            "grid_auto_flow": null,
            "grid_auto_rows": null,
            "grid_column": null,
            "grid_gap": null,
            "grid_row": null,
            "grid_template_areas": null,
            "grid_template_columns": null,
            "grid_template_rows": null,
            "height": null,
            "justify_content": null,
            "justify_items": null,
            "left": null,
            "margin": null,
            "max_height": null,
            "max_width": null,
            "min_height": null,
            "min_width": null,
            "object_fit": null,
            "object_position": null,
            "order": null,
            "overflow": null,
            "overflow_x": null,
            "overflow_y": null,
            "padding": null,
            "right": null,
            "top": null,
            "visibility": null,
            "width": null
          }
        },
        "b57ade4c4ba645f596756a3daf4991cf": {
          "model_module": "@jupyter-widgets/controls",
          "model_name": "SliderStyleModel",
          "model_module_version": "1.5.0",
          "state": {
            "_model_module": "@jupyter-widgets/controls",
            "_model_module_version": "1.5.0",
            "_model_name": "SliderStyleModel",
            "_view_count": null,
            "_view_module": "@jupyter-widgets/base",
            "_view_module_version": "1.2.0",
            "_view_name": "StyleView",
            "description_width": "",
            "handle_color": null
          }
        },
        "4cfa8fe194a64c55bbe4c2eba71f5b88": {
          "model_module": "@jupyter-widgets/base",
          "model_name": "LayoutModel",
          "model_module_version": "1.2.0",
          "state": {
            "_model_module": "@jupyter-widgets/base",
            "_model_module_version": "1.2.0",
            "_model_name": "LayoutModel",
            "_view_count": null,
            "_view_module": "@jupyter-widgets/base",
            "_view_module_version": "1.2.0",
            "_view_name": "LayoutView",
            "align_content": null,
            "align_items": null,
            "align_self": null,
            "border": null,
            "bottom": null,
            "display": null,
            "flex": null,
            "flex_flow": null,
            "grid_area": null,
            "grid_auto_columns": null,
            "grid_auto_flow": null,
            "grid_auto_rows": null,
            "grid_column": null,
            "grid_gap": null,
            "grid_row": null,
            "grid_template_areas": null,
            "grid_template_columns": null,
            "grid_template_rows": null,
            "height": null,
            "justify_content": null,
            "justify_items": null,
            "left": null,
            "margin": null,
            "max_height": null,
            "max_width": null,
            "min_height": null,
            "min_width": null,
            "object_fit": null,
            "object_position": null,
            "order": null,
            "overflow": null,
            "overflow_x": null,
            "overflow_y": null,
            "padding": null,
            "right": null,
            "top": null,
            "visibility": null,
            "width": null
          }
        },
        "4348f5d28d9c4fca9ca5999e1e40471d": {
          "model_module": "@jupyter-widgets/controls",
          "model_name": "SliderStyleModel",
          "model_module_version": "1.5.0",
          "state": {
            "_model_module": "@jupyter-widgets/controls",
            "_model_module_version": "1.5.0",
            "_model_name": "SliderStyleModel",
            "_view_count": null,
            "_view_module": "@jupyter-widgets/base",
            "_view_module_version": "1.2.0",
            "_view_name": "StyleView",
            "description_width": "",
            "handle_color": null
          }
        },
        "87bd2d835a7e4a84bd5f361b87b26740": {
          "model_module": "@jupyter-widgets/base",
          "model_name": "LayoutModel",
          "model_module_version": "1.2.0",
          "state": {
            "_model_module": "@jupyter-widgets/base",
            "_model_module_version": "1.2.0",
            "_model_name": "LayoutModel",
            "_view_count": null,
            "_view_module": "@jupyter-widgets/base",
            "_view_module_version": "1.2.0",
            "_view_name": "LayoutView",
            "align_content": null,
            "align_items": null,
            "align_self": null,
            "border": null,
            "bottom": null,
            "display": null,
            "flex": null,
            "flex_flow": null,
            "grid_area": null,
            "grid_auto_columns": null,
            "grid_auto_flow": null,
            "grid_auto_rows": null,
            "grid_column": null,
            "grid_gap": null,
            "grid_row": null,
            "grid_template_areas": null,
            "grid_template_columns": null,
            "grid_template_rows": null,
            "height": null,
            "justify_content": null,
            "justify_items": null,
            "left": null,
            "margin": null,
            "max_height": null,
            "max_width": null,
            "min_height": null,
            "min_width": null,
            "object_fit": null,
            "object_position": null,
            "order": null,
            "overflow": null,
            "overflow_x": null,
            "overflow_y": null,
            "padding": null,
            "right": null,
            "top": null,
            "visibility": null,
            "width": null
          }
        },
        "e0927840bb7f47f783dbd1daae658d7f": {
          "model_module": "@jupyter-widgets/controls",
          "model_name": "VBoxModel",
          "model_module_version": "1.5.0",
          "state": {
            "_dom_classes": [
              "widget-interact"
            ],
            "_model_module": "@jupyter-widgets/controls",
            "_model_module_version": "1.5.0",
            "_model_name": "VBoxModel",
            "_view_count": null,
            "_view_module": "@jupyter-widgets/controls",
            "_view_module_version": "1.5.0",
            "_view_name": "VBoxView",
            "box_style": "",
            "children": [
              "IPY_MODEL_1d57ec79ebf44eca864704165664dd2e",
              "IPY_MODEL_c19a2e05a98d4a5d8eac8bdccfa3a194",
              "IPY_MODEL_9d2e7c037a2c4fcd823bf4925734eaf6",
              "IPY_MODEL_342fa87b89fb46dfadd9ff390a9e8d3d"
            ],
            "layout": "IPY_MODEL_098df56eac0b4d5ba4ae39d0f15db1b0"
          }
        },
        "1d57ec79ebf44eca864704165664dd2e": {
          "model_module": "@jupyter-widgets/controls",
          "model_name": "FloatSliderModel",
          "model_module_version": "1.5.0",
          "state": {
            "_dom_classes": [],
            "_model_module": "@jupyter-widgets/controls",
            "_model_module_version": "1.5.0",
            "_model_name": "FloatSliderModel",
            "_view_count": null,
            "_view_module": "@jupyter-widgets/controls",
            "_view_module_version": "1.5.0",
            "_view_name": "FloatSliderView",
            "continuous_update": true,
            "description": "m1",
            "description_tooltip": null,
            "disabled": false,
            "layout": "IPY_MODEL_e9af0e73b3d1442a8f26b9dffa093024",
            "max": 10,
            "min": 0,
            "orientation": "horizontal",
            "readout": true,
            "readout_format": ".2f",
            "step": 0.5,
            "style": "IPY_MODEL_45d64d32fa234a5e84d6f9352b4608df",
            "value": 5
          }
        },
        "c19a2e05a98d4a5d8eac8bdccfa3a194": {
          "model_module": "@jupyter-widgets/controls",
          "model_name": "FloatSliderModel",
          "model_module_version": "1.5.0",
          "state": {
            "_dom_classes": [],
            "_model_module": "@jupyter-widgets/controls",
            "_model_module_version": "1.5.0",
            "_model_name": "FloatSliderModel",
            "_view_count": null,
            "_view_module": "@jupyter-widgets/controls",
            "_view_module_version": "1.5.0",
            "_view_name": "FloatSliderView",
            "continuous_update": true,
            "description": "m2",
            "description_tooltip": null,
            "disabled": false,
            "layout": "IPY_MODEL_07c56de9bf654c72b255e0f253bb958d",
            "max": 10,
            "min": 0,
            "orientation": "horizontal",
            "readout": true,
            "readout_format": ".2f",
            "step": 0.5,
            "style": "IPY_MODEL_f4ea077e94d041fbbf295cbcf509bd18",
            "value": 5
          }
        },
        "9d2e7c037a2c4fcd823bf4925734eaf6": {
          "model_module": "@jupyter-widgets/controls",
          "model_name": "IntSliderModel",
          "model_module_version": "1.5.0",
          "state": {
            "_dom_classes": [],
            "_model_module": "@jupyter-widgets/controls",
            "_model_module_version": "1.5.0",
            "_model_name": "IntSliderModel",
            "_view_count": null,
            "_view_module": "@jupyter-widgets/controls",
            "_view_module_version": "1.5.0",
            "_view_name": "IntSliderView",
            "continuous_update": true,
            "description": "theta2",
            "description_tooltip": null,
            "disabled": false,
            "layout": "IPY_MODEL_92ad65985d404205964baead95cdb775",
            "max": 90,
            "min": 0,
            "orientation": "horizontal",
            "readout": true,
            "readout_format": "d",
            "step": 1,
            "style": "IPY_MODEL_885727f79ef640b5a31db92187c776d9",
            "value": 45
          }
        },
        "342fa87b89fb46dfadd9ff390a9e8d3d": {
          "model_module": "@jupyter-widgets/output",
          "model_name": "OutputModel",
          "model_module_version": "1.0.0",
          "state": {
            "_dom_classes": [],
            "_model_module": "@jupyter-widgets/output",
            "_model_module_version": "1.0.0",
            "_model_name": "OutputModel",
            "_view_count": null,
            "_view_module": "@jupyter-widgets/output",
            "_view_module_version": "1.0.0",
            "_view_name": "OutputView",
            "layout": "IPY_MODEL_6da29dd09a1e4f309259afe0acc0fd12",
            "msg_id": "",
            "outputs": [
              {
                "output_type": "display_data",
                "data": {
                  "text/plain": "<Figure size 800x500 with 1 Axes>",
                  "image/png": "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\n"
                },
                "metadata": {}
              }
            ]
          }
        },
        "098df56eac0b4d5ba4ae39d0f15db1b0": {
          "model_module": "@jupyter-widgets/base",
          "model_name": "LayoutModel",
          "model_module_version": "1.2.0",
          "state": {
            "_model_module": "@jupyter-widgets/base",
            "_model_module_version": "1.2.0",
            "_model_name": "LayoutModel",
            "_view_count": null,
            "_view_module": "@jupyter-widgets/base",
            "_view_module_version": "1.2.0",
            "_view_name": "LayoutView",
            "align_content": null,
            "align_items": null,
            "align_self": null,
            "border": null,
            "bottom": null,
            "display": null,
            "flex": null,
            "flex_flow": null,
            "grid_area": null,
            "grid_auto_columns": null,
            "grid_auto_flow": null,
            "grid_auto_rows": null,
            "grid_column": null,
            "grid_gap": null,
            "grid_row": null,
            "grid_template_areas": null,
            "grid_template_columns": null,
            "grid_template_rows": null,
            "height": null,
            "justify_content": null,
            "justify_items": null,
            "left": null,
            "margin": null,
            "max_height": null,
            "max_width": null,
            "min_height": null,
            "min_width": null,
            "object_fit": null,
            "object_position": null,
            "order": null,
            "overflow": null,
            "overflow_x": null,
            "overflow_y": null,
            "padding": null,
            "right": null,
            "top": null,
            "visibility": null,
            "width": null
          }
        },
        "e9af0e73b3d1442a8f26b9dffa093024": {
          "model_module": "@jupyter-widgets/base",
          "model_name": "LayoutModel",
          "model_module_version": "1.2.0",
          "state": {
            "_model_module": "@jupyter-widgets/base",
            "_model_module_version": "1.2.0",
            "_model_name": "LayoutModel",
            "_view_count": null,
            "_view_module": "@jupyter-widgets/base",
            "_view_module_version": "1.2.0",
            "_view_name": "LayoutView",
            "align_content": null,
            "align_items": null,
            "align_self": null,
            "border": null,
            "bottom": null,
            "display": null,
            "flex": null,
            "flex_flow": null,
            "grid_area": null,
            "grid_auto_columns": null,
            "grid_auto_flow": null,
            "grid_auto_rows": null,
            "grid_column": null,
            "grid_gap": null,
            "grid_row": null,
            "grid_template_areas": null,
            "grid_template_columns": null,
            "grid_template_rows": null,
            "height": null,
            "justify_content": null,
            "justify_items": null,
            "left": null,
            "margin": null,
            "max_height": null,
            "max_width": null,
            "min_height": null,
            "min_width": null,
            "object_fit": null,
            "object_position": null,
            "order": null,
            "overflow": null,
            "overflow_x": null,
            "overflow_y": null,
            "padding": null,
            "right": null,
            "top": null,
            "visibility": null,
            "width": null
          }
        },
        "45d64d32fa234a5e84d6f9352b4608df": {
          "model_module": "@jupyter-widgets/controls",
          "model_name": "SliderStyleModel",
          "model_module_version": "1.5.0",
          "state": {
            "_model_module": "@jupyter-widgets/controls",
            "_model_module_version": "1.5.0",
            "_model_name": "SliderStyleModel",
            "_view_count": null,
            "_view_module": "@jupyter-widgets/base",
            "_view_module_version": "1.2.0",
            "_view_name": "StyleView",
            "description_width": "",
            "handle_color": null
          }
        },
        "07c56de9bf654c72b255e0f253bb958d": {
          "model_module": "@jupyter-widgets/base",
          "model_name": "LayoutModel",
          "model_module_version": "1.2.0",
          "state": {
            "_model_module": "@jupyter-widgets/base",
            "_model_module_version": "1.2.0",
            "_model_name": "LayoutModel",
            "_view_count": null,
            "_view_module": "@jupyter-widgets/base",
            "_view_module_version": "1.2.0",
            "_view_name": "LayoutView",
            "align_content": null,
            "align_items": null,
            "align_self": null,
            "border": null,
            "bottom": null,
            "display": null,
            "flex": null,
            "flex_flow": null,
            "grid_area": null,
            "grid_auto_columns": null,
            "grid_auto_flow": null,
            "grid_auto_rows": null,
            "grid_column": null,
            "grid_gap": null,
            "grid_row": null,
            "grid_template_areas": null,
            "grid_template_columns": null,
            "grid_template_rows": null,
            "height": null,
            "justify_content": null,
            "justify_items": null,
            "left": null,
            "margin": null,
            "max_height": null,
            "max_width": null,
            "min_height": null,
            "min_width": null,
            "object_fit": null,
            "object_position": null,
            "order": null,
            "overflow": null,
            "overflow_x": null,
            "overflow_y": null,
            "padding": null,
            "right": null,
            "top": null,
            "visibility": null,
            "width": null
          }
        },
        "f4ea077e94d041fbbf295cbcf509bd18": {
          "model_module": "@jupyter-widgets/controls",
          "model_name": "SliderStyleModel",
          "model_module_version": "1.5.0",
          "state": {
            "_model_module": "@jupyter-widgets/controls",
            "_model_module_version": "1.5.0",
            "_model_name": "SliderStyleModel",
            "_view_count": null,
            "_view_module": "@jupyter-widgets/base",
            "_view_module_version": "1.2.0",
            "_view_name": "StyleView",
            "description_width": "",
            "handle_color": null
          }
        },
        "92ad65985d404205964baead95cdb775": {
          "model_module": "@jupyter-widgets/base",
          "model_name": "LayoutModel",
          "model_module_version": "1.2.0",
          "state": {
            "_model_module": "@jupyter-widgets/base",
            "_model_module_version": "1.2.0",
            "_model_name": "LayoutModel",
            "_view_count": null,
            "_view_module": "@jupyter-widgets/base",
            "_view_module_version": "1.2.0",
            "_view_name": "LayoutView",
            "align_content": null,
            "align_items": null,
            "align_self": null,
            "border": null,
            "bottom": null,
            "display": null,
            "flex": null,
            "flex_flow": null,
            "grid_area": null,
            "grid_auto_columns": null,
            "grid_auto_flow": null,
            "grid_auto_rows": null,
            "grid_column": null,
            "grid_gap": null,
            "grid_row": null,
            "grid_template_areas": null,
            "grid_template_columns": null,
            "grid_template_rows": null,
            "height": null,
            "justify_content": null,
            "justify_items": null,
            "left": null,
            "margin": null,
            "max_height": null,
            "max_width": null,
            "min_height": null,
            "min_width": null,
            "object_fit": null,
            "object_position": null,
            "order": null,
            "overflow": null,
            "overflow_x": null,
            "overflow_y": null,
            "padding": null,
            "right": null,
            "top": null,
            "visibility": null,
            "width": null
          }
        },
        "885727f79ef640b5a31db92187c776d9": {
          "model_module": "@jupyter-widgets/controls",
          "model_name": "SliderStyleModel",
          "model_module_version": "1.5.0",
          "state": {
            "_model_module": "@jupyter-widgets/controls",
            "_model_module_version": "1.5.0",
            "_model_name": "SliderStyleModel",
            "_view_count": null,
            "_view_module": "@jupyter-widgets/base",
            "_view_module_version": "1.2.0",
            "_view_name": "StyleView",
            "description_width": "",
            "handle_color": null
          }
        },
        "6da29dd09a1e4f309259afe0acc0fd12": {
          "model_module": "@jupyter-widgets/base",
          "model_name": "LayoutModel",
          "model_module_version": "1.2.0",
          "state": {
            "_model_module": "@jupyter-widgets/base",
            "_model_module_version": "1.2.0",
            "_model_name": "LayoutModel",
            "_view_count": null,
            "_view_module": "@jupyter-widgets/base",
            "_view_module_version": "1.2.0",
            "_view_name": "LayoutView",
            "align_content": null,
            "align_items": null,
            "align_self": null,
            "border": null,
            "bottom": null,
            "display": null,
            "flex": null,
            "flex_flow": null,
            "grid_area": null,
            "grid_auto_columns": null,
            "grid_auto_flow": null,
            "grid_auto_rows": null,
            "grid_column": null,
            "grid_gap": null,
            "grid_row": null,
            "grid_template_areas": null,
            "grid_template_columns": null,
            "grid_template_rows": null,
            "height": null,
            "justify_content": null,
            "justify_items": null,
            "left": null,
            "margin": null,
            "max_height": null,
            "max_width": null,
            "min_height": null,
            "min_width": null,
            "object_fit": null,
            "object_position": null,
            "order": null,
            "overflow": null,
            "overflow_x": null,
            "overflow_y": null,
            "padding": null,
            "right": null,
            "top": null,
            "visibility": null,
            "width": null
          }
        }
      }
    }
  },
  "nbformat": 4,
  "nbformat_minor": 5
}