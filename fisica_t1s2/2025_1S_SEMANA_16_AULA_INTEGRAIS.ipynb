{
 "cells": [
  {
   "cell_type": "markdown",
   "id": "a0f9fc65",
   "metadata": {},
   "source": [
    "<img src= \"https://maua.br/images/logo-IMT.png\" width=250>"
   ]
  },
  {
   "cell_type": "markdown",
   "id": "cf4b175c",
   "metadata": {},
   "source": [
    "#  <center> <font color=#023e8a>  **CIC202: Física e Modelagem Computacional**  <center>\n",
    " <center> Prof. Sandro Martini <center>"
   ]
  },
  {
   "cell_type": "markdown",
   "id": "89f58705",
   "metadata": {},
   "source": [
    "## <center>  **Aula 16: Integrais no Python e suas Aplicações na Física**"
   ]
  },
  {
   "cell_type": "markdown",
   "id": "401c1d27",
   "metadata": {},
   "source": [
    "### Nome: não esqueça de colocar seu nome aqui"
   ]
  },
  {
   "cell_type": "markdown",
   "id": "02fd0026",
   "metadata": {},
   "source": [
    "### Instruções iniciais:\n",
    "\n",
    "1. Coloque todos os arquivos que você baixou num mesmo diretório;\n",
    "2. **<span style=\"color:red\">Leia TODO o notebook</span>** e realize as tarefas indicadas;\n",
    "3. Quando tiver terminado, envie esse próprio arquivo com as atividades realizadas.\n",
    "4. O laboratório é um momento de independência para que você possa aprender de forma autônoma. Por isso leia atentamente as instruções, discuta com os colegas os exercícios, os códigos e as soluções. \n",
    "   \n",
    "\n"
   ]
  },
  {
   "cell_type": "markdown",
   "id": "3d41bd72",
   "metadata": {},
   "source": [
    "### Objetivos:"
   ]
  },
  {
   "cell_type": "markdown",
   "id": "260af190",
   "metadata": {},
   "source": [
    "-  Utilizar a biblioteca SymPy para implementar integrais computacionalmente.\n",
    "-  Utlizar o SciPy para integrais definidas.\n",
    "-  Aplicar integrais em problemas da Física."
   ]
  },
  {
   "cell_type": "markdown",
   "id": "e8a6ca1b",
   "metadata": {},
   "source": [
    "### Teorema Fundamental do Cálculo\n",
    "\n",
    "O Teorema Fundamental do Cálculo estabelece a relação entre as duas principais operações do cálculo: diferenciação e integração. O teorema é composto por duas partes:\n",
    "\n",
    "(1) Seja $f(x)$ uma função contínua no intervalo fechado $[a, b]$ e $F(x)$ uma função definida por:\n",
    "\n",
    "$$\n",
    "F(x) = \\int_a^x f(x) \\, dx\n",
    "$$\n",
    "\n",
    "Então, $F(x)$ é contínua no intervalo fechado $[a, b]$ e diferenciável no intervalo aberto $(a, b)$. Além disso, a derivada de $F(x)$ é igual à função original $f(x)$:\n",
    "\n",
    "$$\n",
    "\\frac{d}{dx} F(x) = f(x)\n",
    "$$\n",
    "\n",
    "(2) Seja $f(x)$ uma função contínua no intervalo fechado $[a, b]$ e seja $F(x)$ uma antiderivada de $f(x)$, ou seja, $\\frac{d}{dx} F(x) = f(x)$. Então, o valor da integral definida de $f(x)$ no intervalo $[a, b]$ pode ser calculado usando as antiderivadas nos limites de integração:\n",
    "\n",
    "$$\n",
    "\\int_a^b f(x) \\, dx = F(b) - F(a)\n",
    "$$"
   ]
  },
  {
   "cell_type": "markdown",
   "id": "0109094d",
   "metadata": {},
   "source": [
    "### Integrando com o SymPy\n",
    "\n",
    "Para calcular a integral de uma função usando Python, podemos utilizar a biblioteca SymPy que utilizamos para as derivadas. A estrutura básica para integrar simbolicamente é a seguinte:\n",
    "\n",
    "1. Importar a biblioteca SymPy:`import sympy as sp`\n",
    "\n",
    "2. Definir a variável simbólica (geralmente x): `x = sp.Symbol('x')\n",
    "\n",
    "3. Definir a função f(x) que se deseja integrar: `f = <função de x>  # Exemplo: x**2 - 3*x + 2`\n",
    "\n",
    "4. Calcular a integral usando a função sp.integrate(): `Int_f = sp.integrate(f, x)`\n",
    "\n",
    "5. Exibir a integral: `Int_f`"
   ]
  },
  {
   "cell_type": "markdown",
   "id": "55388fa9",
   "metadata": {},
   "source": [
    "### Exemplos\n",
    "\n",
    "Aqui estão alguns exemplos simples de como usar o SymPy para integrar as funções ($\\int f(x) \\, dx$) a seguir:"
   ]
  },
  {
   "cell_type": "markdown",
   "id": "b41a3639",
   "metadata": {},
   "source": [
    "Exemplo 01: $f(x) = x^2 +3x +2$"
   ]
  },
  {
   "cell_type": "code",
   "execution_count": null,
   "id": "8880f804",
   "metadata": {},
   "outputs": [],
   "source": [
    "import sympy as sp\n",
    "\n",
    "x = sp.Symbol('x')\n",
    "f1 = x**2 + 3*x + 2\n",
    "Int_f1 = sp.integrate(f1, x)\n",
    "Int_f1"
   ]
  },
  {
   "cell_type": "markdown",
   "id": "76c79f75",
   "metadata": {},
   "source": [
    "Exemplo 02: $f(t) = Asen(\\omega t)$"
   ]
  },
  {
   "cell_type": "code",
   "execution_count": null,
   "id": "b0b303e3",
   "metadata": {},
   "outputs": [],
   "source": [
    "import sympy as sp\n",
    "\n",
    "t, A, ω = sp.symbols(\"t A ω\")\n",
    "f2 = A*sp.sin(ω*t)\n",
    "Int_f2 = sp.integrate(f2, t)\n",
    "\n",
    "Int_f2\n"
   ]
  },
  {
   "cell_type": "markdown",
   "id": "581abacf",
   "metadata": {},
   "source": [
    "Exemplo 03: $f(x) = xe^x$"
   ]
  },
  {
   "cell_type": "code",
   "execution_count": null,
   "id": "c976842e",
   "metadata": {},
   "outputs": [],
   "source": [
    "import sympy as sp\n",
    "\n",
    "x = sp.Symbol('x')\n",
    "f3 = x*sp.exp(x)\n",
    "Int_3 = sp.integrate(f3,x)\n",
    "Int_3\n"
   ]
  },
  {
   "cell_type": "markdown",
   "id": "9cdeb5e0",
   "metadata": {},
   "source": [
    "<div class=\"alert alert-danger\"> <strong> &#x1F4DD; Atividade 1: </strong>  \n",
    "\n",
    "Escreva um código para determinar as integrais das funções a seguir.\n",
    "\n",
    "</div>"
   ]
  },
  {
   "cell_type": "markdown",
   "id": "d66b095b",
   "metadata": {},
   "source": [
    "<div class=\"alert alert-danger\"> <strong> </strong>  \n",
    "(a) $f(x) = \\large{\\frac{(\\sqrt x +1)^2}{x^3}}$\n",
    "</div>"
   ]
  },
  {
   "cell_type": "code",
   "execution_count": null,
   "id": "1b4d93fc",
   "metadata": {},
   "outputs": [],
   "source": [
    "#coloque aqui seu códigoimport sympy as sp\n",
    "\n",
    "x = sp.Symbol('x')\n",
    "f_a = ((sp.sqrt(x) + 1)**2) / x**3\n",
    "Int_a = sp.integrate(f_a, x)\n",
    "Int_a"
   ]
  },
  {
   "cell_type": "markdown",
   "id": "b47c7568",
   "metadata": {},
   "source": [
    "<div class=\"alert alert-danger\"> <strong> </strong>  \n",
    "(b) $f(x) = x^2ln(\\sqrt{1-x}) $ \n",
    "</div>"
   ]
  },
  {
   "cell_type": "code",
   "execution_count": null,
   "id": "aa856a14",
   "metadata": {},
   "outputs": [],
   "source": [
    "#coloque aqui seu códigox = sp.Symbol('x')\n",
    "import sympy as sp\n",
    "f_b = x**2 * sp.ln(sp.sqrt(1 - x))\n",
    "Int_b = sp.integrate(f_b, x)\n",
    "Int_b"
   ]
  },
  {
   "cell_type": "markdown",
   "id": "100234b8",
   "metadata": {},
   "source": [
    "<div class=\"alert alert-danger\"> <strong> </strong> \n",
    "(c) $ f(x) = e^xsen(x) + e^xcos(x)$\n",
    "</div>"
   ]
  },
  {
   "cell_type": "code",
   "execution_count": null,
   "id": "db2e4366",
   "metadata": {},
   "outputs": [],
   "source": [
    "#coloque aqui seu código\n",
    "import sympy as sp\n",
    "x = sp.Symbol('x')\n",
    "f_c = sp.exp(x) * sp.sin(x) + sp.exp(x) * sp.cos(x)\n",
    "Int_c = sp.integrate(f_c, x)\n",
    "Int_c"
   ]
  },
  {
   "cell_type": "markdown",
   "id": "d0f73471",
   "metadata": {},
   "source": [
    "<div class=\"alert alert-danger\"> <strong> </strong>  \n",
    "(d) $f(x) = \\large{\\frac{cos(ax)}{\\sqrt{a^2 + sen(ax)^2}}} $\n",
    "</div>"
   ]
  },
  {
   "cell_type": "code",
   "execution_count": 2,
   "id": "73889a10",
   "metadata": {},
   "outputs": [
    {
     "ename": "ModuleNotFoundError",
     "evalue": "No module named 'sympy'",
     "output_type": "error",
     "traceback": [
      "\u001b[31m---------------------------------------------------------------------------\u001b[39m",
      "\u001b[31mModuleNotFoundError\u001b[39m                       Traceback (most recent call last)",
      "\u001b[36mCell\u001b[39m\u001b[36m \u001b[39m\u001b[32mIn[2]\u001b[39m\u001b[32m, line 1\u001b[39m\n\u001b[32m----> \u001b[39m\u001b[32m1\u001b[39m \u001b[38;5;28;01mimport\u001b[39;00m\u001b[38;5;250m \u001b[39m\u001b[34;01msympy\u001b[39;00m\u001b[38;5;250m \u001b[39m\u001b[38;5;28;01mas\u001b[39;00m\u001b[38;5;250m \u001b[39m\u001b[34;01msp\u001b[39;00m\n\u001b[32m      2\u001b[39m x, a = sp.symbols(\u001b[33m'\u001b[39m\u001b[33mx a\u001b[39m\u001b[33m'\u001b[39m)\n\u001b[32m      3\u001b[39m f_d = sp.cos(a*x) / sp.sqrt(a**\u001b[32m2\u001b[39m + sp.sin(a*x)**\u001b[32m2\u001b[39m)\n",
      "\u001b[31mModuleNotFoundError\u001b[39m: No module named 'sympy'"
     ]
    }
   ],
   "source": [
    "import sympy as sp\n",
    "x, a = sp.symbols('x a')\n",
    "f_d = sp.cos(a*x) / sp.sqrt(a**2 + sp.sin(a*x)**2)\n",
    "Int_d = sp.integrate(f_d, x)\n",
    "Int_d"
   ]
  },
  {
   "cell_type": "markdown",
   "id": "0f3fd8df",
   "metadata": {},
   "source": [
    "<div class=\"alert alert-warning\"><strong>Questão:</strong> \n",
    "    \n",
    "O que houve com a solução dessa última integral? Por que?\n",
    "\n",
    "</div>"
   ]
  },
  {
   "cell_type": "markdown",
   "id": "b5f3c0a9",
   "metadata": {},
   "source": [
    " **Resposta:**"
   ]
  },
  {
   "cell_type": "markdown",
   "id": "5d3c46cd",
   "metadata": {},
   "source": [
    " ### Integral definida com o SymPy\n",
    " \n",
    "Para calcular integrais definidas, também utilizaremos a função `integrate` do SymPy e forneceremos os limites de integração.:\n",
    " \n",
    "`integral_definida = integrate(f_x, (x, a, b))`  \n",
    "`integral_definida`\n",
    "\n",
    "sendo `a` e `b` os limites inferior e superior, respectivamente."
   ]
  },
  {
   "cell_type": "markdown",
   "id": "493dd892",
   "metadata": {},
   "source": [
    "**Exemplo**:  Vamos considerar a função $f(x) = x^2$ e calcular sua integral entre os pontos $x = 2$ e $x = 3$, ou seja,\n",
    "\n",
    "$$\\int_2^3 x^2 \\, dx$$"
   ]
  },
  {
   "cell_type": "code",
   "execution_count": null,
   "id": "d47f13ad",
   "metadata": {},
   "outputs": [],
   "source": [
    "import sympy as sp\n",
    "\n",
    "x = sp.Symbol('x')\n",
    "f = x**2\n",
    "\n",
    "Int_f_definida = sp.integrate(f,(x,2,3))\n",
    "Int_f_definida"
   ]
  },
  {
   "cell_type": "markdown",
   "id": "ecdb5db2",
   "metadata": {},
   "source": [
    "### Integral definida com o SciPy"
   ]
  },
  {
   "cell_type": "markdown",
   "id": "5e37269b",
   "metadata": {},
   "source": [
    "O [SciPy](https://docs.scipy.org/doc/scipy/index.html) é é uma coleção de algoritmos matemáticos e funções de conveniência para matemática, ciência da computação e engenharia, construídas com base na extensão NumPy do Python. Inclui módulos para estatísticas, otimização, integração, álgebra linear, transformadas de Fourier, processamento de sinais e imagens, solucionadores de equações diferenciais e muito mais.\n",
    "\n",
    "Para calcular uma integral definida, utilizamos o subpacote `scipy.integrate`. A função `quad` é fornecida para integrar uma função de uma variável entre dois pontos. Por exemplo, suponha que você queira calcular a integral a função $f(x) = x^2$ e calcular sua integral entre os pontos $x = 2$ e $x = 3$, ou seja,\n",
    "\n",
    "$$\\int_2^3 x^2 \\, dx$$"
   ]
  },
  {
   "cell_type": "code",
   "execution_count": null,
   "id": "10ae3376",
   "metadata": {},
   "outputs": [],
   "source": [
    "import numpy as np\n",
    "from scipy.integrate import quad\n",
    "\n",
    "def f(x):\n",
    "    return x**2\n",
    "\n",
    "Integral_definida = quad(f, 2, 3)\n",
    "Integral_definida\n"
   ]
  },
  {
   "cell_type": "markdown",
   "id": "dcedd4b3",
   "metadata": {},
   "source": [
    "**Obs.**: a função `quad` do módulo `scipy.integrate` sempre retornará uma tupla com dois valores. O primeiro valor é o resultado aproximado da integral definida, e o segundo valor é uma estimativa do erro absoluto no cálculo"
   ]
  },
  {
   "cell_type": "markdown",
   "id": "78f97a5b",
   "metadata": {},
   "source": [
    "<div class=\"alert alert-danger\"> <strong> &#x1F4DD; Atividade 2: </strong>  \n",
    "\n",
    "Escreva um código para determinar as integrais definidas a seguir, utilizando o SciPy:\n",
    "\n",
    "</div>"
   ]
  },
  {
   "cell_type": "markdown",
   "id": "d16826ad",
   "metadata": {},
   "source": [
    "<div class=\"alert alert-danger\"> <strong> </strong>  \n",
    "(a) $f(x) = \\large{\\int_3^4 \\frac{dx}{x^2 - 3x +2}} $\n",
    "</div>"
   ]
  },
  {
   "cell_type": "code",
   "execution_count": null,
   "id": "782c3a4a",
   "metadata": {},
   "outputs": [],
   "source": [
    "import scipy.integrate as spi\n",
    "\n",
    "def func_a(x):\n",
    "    return x**2 - 3*x + 2\n",
    "\n",
    "resultado_a, erro_a = spi.quad(func_a, 4, 3)"
   ]
  },
  {
   "cell_type": "markdown",
   "id": "35cbcd6e",
   "metadata": {},
   "source": [
    "<div class=\"alert alert-danger\"> <strong> </strong>  \n",
    "(b) $f(x) = \\large{\\int_3^{29} \\frac{(x - 2)^{\\frac{2}{3}}}{(x - 2)^{\\frac{2}{3}} + 3} dx} $\n",
    "</div>"
   ]
  },
  {
   "cell_type": "code",
   "execution_count": null,
   "id": "212f6fa3",
   "metadata": {},
   "outputs": [],
   "source": [
    "def func_b(x):\n",
    "    return ((x - 2)**2) / (((x - 2)**2) + 3)\n",
    "\n",
    "resultado_b, erro_b = spi.quad(func_b, 2, 9)\n",
    "\n",
    "# Resultados\n",
    "print(\"Resultado da integral (a):\", resultado_a)\n",
    "print(\"Resultado da integral (b):\", resultado_b)"
   ]
  },
  {
   "cell_type": "markdown",
   "id": "d8e65384",
   "metadata": {},
   "source": [
    "### SymPy (Integrate) x SciPy(quad)"
   ]
  },
  {
   "cell_type": "markdown",
   "id": "658e88d1",
   "metadata": {},
   "source": [
    "Sympy e Scipy são duas bibliotecas Python com propósitos diferentes, mas ambas são muito úteis. O SymPy é uma biblioteca Python de computação simbólica que permite realizar operações simbólicas. Por outro lado, o SciPy é uma biblioteca Python para computação científica que fornece uma coleção de algoritmos e funções para lidar com uma ampla variedade de tarefas em ciência da computação, engenharia e matemática aplicada. As duas bibliotecas podem ser complementares e frequentemente são usadas em conjunto em projetos. \n",
    "\n",
    "Entretanto, para a solução numérica das integrais, o SciPy possui algoritmos mais otimizados e eficientes. Isso pode ser observado analisando o **tempo de execução de um código**. O tempo de execução de um código refere-se ao tempo necessário para que um programa ou função seja executado e complete sua tarefa. Ele é medido desde o início da execução do código até que ele termine de executar todas as instruções e processos. Geralmente, o tempo de execução é medido em segundos, milissegundos ou microssegundos, dependendo da complexidade do código e dos recursos do sistema.\n",
    "\n",
    "Para medir o tempo de execução de um trecho de código em Python, você pode usar o módulo `timeit`. Ele fornece uma maneira simples de medir o tempo de execução de pequenos bits de código Python. O tempo de execução é importante por várias razões:\n",
    "\n",
    "1. Desempenho\n",
    "\n",
    "2. Experiência do usuário\n",
    "\n",
    "3. Economia de recursos\n",
    "\n",
    "4. Escalabilidade\n",
    "\n",
    "Nas células abaixo está um exemplo de como usar o módulo `timeit` para medir o tempo de execução de uma integral:\n",
    "\n",
    "$$\\large{I= \\int_{0}^{5} \\exp(-x^3) \\cos(x)^2 dx}$$\n",
    "\n",
    "usando as funções `integrate` do SymPy e `quad` do SciPy. Execute as células.\n"
   ]
  },
  {
   "cell_type": "code",
   "execution_count": 3,
   "id": "2673fd57",
   "metadata": {},
   "outputs": [
    {
     "ename": "ModuleNotFoundError",
     "evalue": "No module named 'sympy'",
     "output_type": "error",
     "traceback": [
      "\u001b[31m---------------------------------------------------------------------------\u001b[39m",
      "\u001b[31mModuleNotFoundError\u001b[39m                       Traceback (most recent call last)",
      "\u001b[36mCell\u001b[39m\u001b[36m \u001b[39m\u001b[32mIn[3]\u001b[39m\u001b[32m, line 4\u001b[39m\n\u001b[32m      1\u001b[39m \u001b[38;5;66;03m#Tempo de execução utilizando o Sympy\u001b[39;00m\n\u001b[32m      3\u001b[39m \u001b[38;5;28;01mimport\u001b[39;00m\u001b[38;5;250m \u001b[39m\u001b[34;01mtimeit\u001b[39;00m\n\u001b[32m----> \u001b[39m\u001b[32m4\u001b[39m \u001b[38;5;28;01mimport\u001b[39;00m\u001b[38;5;250m \u001b[39m\u001b[34;01msympy\u001b[39;00m\u001b[38;5;250m \u001b[39m\u001b[38;5;28;01mas\u001b[39;00m\u001b[38;5;250m \u001b[39m\u001b[34;01msp\u001b[39;00m\n\u001b[32m      6\u001b[39m \u001b[38;5;28;01mdef\u001b[39;00m\u001b[38;5;250m \u001b[39m\u001b[34mintegrando_com_integrate\u001b[39m():\n\u001b[32m      7\u001b[39m     x = sp.symbols(\u001b[33m\"\u001b[39m\u001b[33mx\u001b[39m\u001b[33m\"\u001b[39m)\n",
      "\u001b[31mModuleNotFoundError\u001b[39m: No module named 'sympy'"
     ]
    }
   ],
   "source": [
    "#Tempo de execução utilizando o Sympy\n",
    "\n",
    "import timeit\n",
    "import sympy as sp\n",
    "\n",
    "def integrando_com_integrate():\n",
    "    x = sp.symbols(\"x\")\n",
    "    f = sp.exp(-x**3) * sp.cos(x)**2\n",
    "    return sp.integrate(f, (x, 0, 5))\n",
    "\n",
    "sympy_time = timeit.timeit(integrando_com_integrate, number=1)\n",
    "print(f\"Tempo de execução do Sympy: {sympy_time:.6f} segundos\")"
   ]
  },
  {
   "cell_type": "code",
   "execution_count": null,
   "id": "b49812d6",
   "metadata": {},
   "outputs": [],
   "source": [
    "#Tempo de execução utilizando o Scipy\n",
    "\n",
    "import timeit\n",
    "import numpy as np\n",
    "from scipy.integrate import quad\n",
    "\n",
    "def integrando_com_scipy(x):\n",
    "    return np.exp(-x**3) * np.cos(x)**2\n",
    "\n",
    "def calcular_integral_scipy():\n",
    "    resultado_scipy = quad(integrando_com_scipy, 0, 5)\n",
    "\n",
    "scipy_time = timeit.timeit(calcular_integral_scipy, number=1)\n",
    "print(f\"Tempo de execução do Scipy: {scipy_time:.6f} segundos\")"
   ]
  },
  {
   "cell_type": "markdown",
   "id": "72529263",
   "metadata": {},
   "source": [
    "<div class=\"alert alert-warning\"><strong>Questão:</strong> \n",
    "    \n",
    "Qual a relação entre os tempos de execução $\\large{\\frac{T_{Sympy}}{T_{Scipy}}}$?\n",
    "\n",
    "</div>"
   ]
  },
  {
   "cell_type": "markdown",
   "id": "5b605157",
   "metadata": {},
   "source": [
    " **Resposta:**  A integral do último item não tem solução em termos de funções elementares. Isso acontece porque a raiz com seno ao quadrado pode levar a funções elípticas. O SymPy, ao não encontrar forma fechada geral, retorna a integral simbólica ou usa funções especiais."
   ]
  },
  {
   "cell_type": "markdown",
   "id": "b2e4522c",
   "metadata": {},
   "source": [
    "<div class=\"alert alert-warning\"><strong>Questão:</strong> \n",
    "\n",
    "Cite alguns parâmetros podem afetar o tempo de execução de um código?\n",
    "    \n",
    "</div>"
   ]
  },
  {
   "cell_type": "markdown",
   "id": "c6eae9c1",
   "metadata": {},
   "source": [
    " **Resposta:** 1. Complexidade do algoritmo -> Algoritmos mais eficientes(menor complexidade) executam mais rápido.\n",
    "2. Tamanho dos dados de entrada -> Quanto maiores os dados, mais tempo é necessário.\n",
    "3. Uso de bibliotecas otimizadas -> Bibliotecas como NumPy e SciPy são otimizadas e executam mais rápido que código puro."
   ]
  },
  {
   "cell_type": "markdown",
   "id": "9279df5d",
   "metadata": {},
   "source": [
    "### Integrais na Física\n",
    "\n",
    "As integrais desempenham um papel fundamental em muitos aspectos da física, ajudando a conectar conceitos e quantidades e a resolver problemas em várias áreas. Por exemplo, na cinemática, as integrais são usadas para determinar a posição e a velocidade de um objeto a partir de sua aceleração. A integração é usada para obter a função de velocidade a partir da função de aceleração e, em seguida, a função de posição a partir da função de velocidade."
   ]
  },
  {
   "cell_type": "markdown",
   "id": "b6abc32e",
   "metadata": {},
   "source": [
    "### A velocidade a partir da aceleração\n",
    "\n",
    "$$\n",
    "v = v_0 + \\int_{0}^{t} a(t) dt\n",
    "$$\n",
    "\n",
    "sendo $v_0$ a velocidade inicial."
   ]
  },
  {
   "cell_type": "markdown",
   "id": "ff65e9ba",
   "metadata": {},
   "source": [
    "### A posição a partir da velocidade\n",
    "\n",
    "$$\n",
    "x = x_0 + \\int_{0}^{t} v(t) dt\n",
    "$$\n",
    "\n",
    "sendo $x_0$ a posição incial.\n"
   ]
  },
  {
   "cell_type": "markdown",
   "id": "eca2864c",
   "metadata": {},
   "source": [
    "<div class=\"alert alert-danger\"> <strong> &#x1F4DD; Atividade 2: </strong>  \n",
    "\n",
    "Escreva um código para resolver computacionalmente o seguinte problema.\n",
    "    \n",
    "Um carro move em uma linha reta de tal maneira que por um curto período sua velocidade é definida pro $v = (0.9t^2 +0.6t) (m/s)$, onde $t$ está em segundos. Determine a sua posição quando $t = 3$ $s$. Quando $t = 0$ $s$, $x_0 = 0$\n",
    "\n",
    "</div>"
   ]
  },
  {
   "cell_type": "code",
   "execution_count": null,
   "id": "21d66d81",
   "metadata": {},
   "outputs": [],
   "source": [
    "#coloque aqui seu código\n",
    "import sympy as sp\n",
    "\n",
    "t = sp.symbols('t')\n",
    "v = 0.9*t**2 + 0.6*t\n",
    "\n",
    "x_t = sp.integrate(v, (t, 0, 3))\n",
    "\n",
    "x_t.evalf()"
   ]
  },
  {
   "cell_type": "markdown",
   "id": "96430b85",
   "metadata": {},
   "source": [
    "<div class=\"alert alert-danger\"> <strong> &#x1F4DD; Atividade 3: </strong>  \n",
    "\n",
    "Escreva um código para resolver computacionalmente o seguinte problema.\n",
    "    \n",
    "Uma partícula está se movendo ao longo de uma linha reta com uma aceleração de $a = (12t - 3\\sqrt{t})$ m/$s^2$, onde $t$ é dado em segundos. Determine a velocidade e a posição da partícula como uma função do tempo. Quando $t = 0$ s, $v_0 = 0$ e $x_0 = 15$ m. \n",
    "\n",
    "</div>"
   ]
  },
  {
   "cell_type": "code",
   "execution_count": null,
   "id": "2ce2244e",
   "metadata": {},
   "outputs": [],
   "source": [
    "#coloque aqui seu código\n",
    "import sympy as sp\n",
    "\n",
    "# Definindo a variável de tempo\n",
    "t = sp.Symbol('t', real=True, positive=True)\n",
    "\n",
    "# Definindo a aceleração\n",
    "a = 12 * t - 3 * sp.sqrt(t)\n",
    "\n",
    "# Integrando a aceleração para obter a velocidade\n",
    "v = sp.integrate(a, t) + sp.Symbol('C1')\n",
    "\n",
    "# Aplicando a condição inicial v(0) = 0\n",
    "C1 = sp.solve(v.subs(t, 0), sp.Symbol('C1'))[0]\n",
    "v = v.subs(sp.Symbol('C1'), C1)\n",
    "\n",
    "# Integrando a velocidade para obter a posição\n",
    "x = sp.integrate(v, t) + sp.Symbol('C2')\n",
    "\n",
    "# Aplicando a condição inicial x(0) = 15\n",
    "C2 = sp.solve(x.subs(t, 0) - 15, sp.Symbol('C2'))[0]\n",
    "x = x.subs(sp.Symbol('C2'), C2)\n",
    "\n",
    "# Exibindo os resultados finais\n",
    "print(\"Velocidade v(t):\")\n",
    "sp.pprint(v, use_unicode=True)\n",
    "\n",
    "print(\"\\nPosição x(t):\")\n",
    "sp.pprint(x, use_unicode=True)"
   ]
  }
 ],
 "metadata": {
  "kernelspec": {
   "display_name": "Python 3",
   "language": "python",
   "name": "python3"
  },
  "language_info": {
   "codemirror_mode": {
    "name": "ipython",
    "version": 3
   },
   "file_extension": ".py",
   "mimetype": "text/x-python",
   "name": "python",
   "nbconvert_exporter": "python",
   "pygments_lexer": "ipython3",
   "version": "3.13.0"
  }
 },
 "nbformat": 4,
 "nbformat_minor": 5
}
